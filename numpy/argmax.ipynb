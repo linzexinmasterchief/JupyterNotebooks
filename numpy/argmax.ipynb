{
 "cells": [
  {
   "cell_type": "code",
   "execution_count": 36,
   "metadata": {
    "collapsed": true
   },
   "outputs": [],
   "source": [
    "import numpy as np\n",
    "import random"
   ]
  },
  {
   "cell_type": "code",
   "execution_count": 37,
   "metadata": {},
   "outputs": [],
   "source": [
    "def getRandArr():\n",
    "    a = []\n",
    "    for i in range(10):\n",
    "        a.append(random.randint(0,10))\n",
    "    return a\n",
    "\n",
    "def printArgmax(arr, ax=0):\n",
    "    print(len(arr))\n",
    "    print(np.argmax(arr, axis=ax))"
   ]
  },
  {
   "cell_type": "code",
   "execution_count": 38,
   "metadata": {},
   "outputs": [
    {
     "name": "stdout",
     "output_type": "stream",
     "text": [
      "[2, 8, 2, 5, 10, 3, 6, 3, 10, 10]\n",
      "10\n",
      "4\n"
     ]
    }
   ],
   "source": [
    "arr = getRandArr()\n",
    "print(arr)\n",
    "printArgmax(arr)"
   ]
  },
  {
   "cell_type": "code",
   "execution_count": 39,
   "metadata": {},
   "outputs": [
    {
     "name": "stdout",
     "output_type": "stream",
     "text": [
      "[[ 2  2  4  5  5  0  3  3  7  2]\n",
      " [ 8  1  7  5  2  0 10  6  5  0]\n",
      " [ 5  7  8  6  8  1  8  6  2  3]\n",
      " [ 8  5  9  8  9  2  4  8  7  1]\n",
      " [10  2  0 10  3  7  7 10  2  8]\n",
      " [ 8  5  1  6  7  9  3  2  5  3]\n",
      " [ 4  7  1  1  3  4  6  8  0  1]\n",
      " [ 6  8 10  9  5 10 10  2  4  3]\n",
      " [10  4 10  3  0  8  9  7  2  3]\n",
      " [ 3  9  1  4  1  1  7  2  2  0]]\n",
      "10\n",
      "[4 9 7 4 3 7 1 4 0 4]\n",
      "10\n",
      "[8 6 2 2 0 5 7 2 0 1]\n"
     ]
    }
   ],
   "source": [
    "b = []\n",
    "for i in range(10):\n",
    "    b.append(getRandArr())\n",
    "\n",
    "b = np.array(b)\n",
    "print(b)\n",
    "printArgmax(b, ax=0)\n",
    "printArgmax(b, ax=1)"
   ]
  },
  {
   "cell_type": "code",
   "execution_count": 42,
   "metadata": {},
   "outputs": [
    {
     "name": "stdout",
     "output_type": "stream",
     "text": [
      "[[[ 8  5  7  5  4  8 10  9  7  8]\n",
      "  [ 1  6  9  5  6  4 10  9  1  3]\n",
      "  [ 2  5  5  4 10  4  1  4  1 10]\n",
      "  [ 1 10  4  6  2  0  0  8  4  0]\n",
      "  [10  8  5  2  8  7  8  3  6  1]\n",
      "  [10  7  0  7  2  3  4  9  1  9]\n",
      "  [ 7  9  2  2  5  6  3  1  7  5]\n",
      "  [ 2  4 10  1  2  6  6  2  9  6]\n",
      "  [ 9  0  4  7  4 10  7  4  2  2]\n",
      "  [10  4  7 10  8  6  5 10  2  7]]\n",
      "\n",
      " [[ 5  6  2  1  1  6  9  0  6  6]\n",
      "  [ 4  9  3  6  1  3  9  6  6  5]\n",
      "  [ 5  3  3  9  4  4  2  7  2  5]\n",
      "  [10  0 10  8  1  8  4  9  2  5]\n",
      "  [ 5  0  3 10  3 10 10  2  2  5]\n",
      "  [ 0  1  0  5  1 10  8  7  9  8]\n",
      "  [ 4  9  5  5  7  7  6  6  0  0]\n",
      "  [ 6  2  3  4  2 10  3  6  8  7]\n",
      "  [ 8  9  0  7  6  8  8 10 10  0]\n",
      "  [ 3  9  9  9 10  1  6  2  8  3]]\n",
      "\n",
      " [[ 3  3  1  6  0  7  4  7  1  5]\n",
      "  [ 6  1 10  6  6  4  3  6 10  7]\n",
      "  [ 5 10  9 10  0  4  7  6  0  1]\n",
      "  [ 2  6  4  8  3  2 10  2  8  7]\n",
      "  [ 6  1  2  3  8  0  4  8  5  1]\n",
      "  [ 2  8  5  6  4  0  4 10  0  4]\n",
      "  [ 7 10  7  9  7  0  8 10  4 10]\n",
      "  [ 3  3  1  8  5  4  5  0  3  6]\n",
      "  [10  9  1  9  8  1 10 10  5  9]\n",
      "  [ 0  7  4  0  2  9  6  0  8  6]]\n",
      "\n",
      " [[ 2  8  8  9  3  7  8 10  8  7]\n",
      "  [ 0  6 10  0  6 10  0 10  3  0]\n",
      "  [ 5  4 10  3  5  1  1  0  9  9]\n",
      "  [ 3 10  1  7  9  6  0  6  2  5]\n",
      "  [ 8  9  2  3  9  7  9  4  9  7]\n",
      "  [ 8  4  8 10  3  0  7  4  6 10]\n",
      "  [ 3  9  8  2  5  3  2  6  9  5]\n",
      "  [ 9  2  3  9  7  9 10  0  3  9]\n",
      "  [ 7  8  7  8 10  6  0  7  6  7]\n",
      "  [ 4 10  8  8  6  4  3 10  8  3]]\n",
      "\n",
      " [[ 7  1  7  6  1  7  9  6  0  5]\n",
      "  [ 3  8  2  2  0  5  8  1  6  6]\n",
      "  [ 1 10  6  4  6  8  5 10  5  6]\n",
      "  [ 7  5  6  3  5  7  7  2  6  0]\n",
      "  [ 9  4  9  8  0  3  9  4 10 10]\n",
      "  [ 7  3  9  3 10 10  5  8  8  8]\n",
      "  [ 9  8  7  5  6  6  6  5  0  6]\n",
      "  [ 8  9  6  8  4 10  9  9  7  9]\n",
      "  [ 6  7  4  1 10  4  4  1  9  4]\n",
      "  [ 4 10  9  8  2  1 10  4  9  6]]\n",
      "\n",
      " [[ 5  4 10  8  8  8  1 10  1  2]\n",
      "  [ 8  4  9  4 10  7  4 10  2  2]\n",
      "  [ 0 10  1  1  6  2  9  3  4  3]\n",
      "  [ 8  0  9  7  4  1  2  1  6  0]\n",
      "  [ 8  5  8 10  7  5  8  1  4  1]\n",
      "  [ 8  6  1  5  9  5  6  2  4  3]\n",
      "  [ 5  3  0  1  2  3  0  2  1  8]\n",
      "  [ 6  5  0  2  6  2  0  8 10  5]\n",
      "  [ 5  0  9  8  6  8  2  5  2  4]\n",
      "  [ 1  7  6  0  3  8 10  4  6  5]]\n",
      "\n",
      " [[ 8  0  2  4  1  3  3 10  2  8]\n",
      "  [ 9  0  6  1  4  2  0  2  0  5]\n",
      "  [ 9  8  7  6  3  5  6  5  9  6]\n",
      "  [ 2  7  9  4  1  0  6  6  9  4]\n",
      "  [ 7 10  8  7  8  6  3  1  6  0]\n",
      "  [ 9 10  5  3  4  6 10  8  7  6]\n",
      "  [ 9  1  4  1  7 10  0  4  5  8]\n",
      "  [10  1  3  2  0  8  8  7  0  3]\n",
      "  [10  0  1  0  8  0  3  2 10  3]\n",
      "  [ 8 10  4 10  5  5  8 10  4  5]]\n",
      "\n",
      " [[ 3  6  9  8  6  0  2  8  6  5]\n",
      "  [ 3  5  7  8  5  6  9  8  9  8]\n",
      "  [ 2  5  2  2  9  5 10  2 10  6]\n",
      "  [ 0  3  0  8  7 10  7  5  1  8]\n",
      "  [10 10  0 10  6  8  2  5 10 10]\n",
      "  [10 10  3  4  2  7  1  0  5  8]\n",
      "  [10  0 10  8  1  3  0  0  1  0]\n",
      "  [ 3  8  3  1  7  1  9  0  0  6]\n",
      "  [ 4  2  8  1  9  7  8  7  4  1]\n",
      "  [ 9  8  1  9  5  8  7  4  2  2]]\n",
      "\n",
      " [[ 4  3  9 10  7  8  0  4  5  9]\n",
      "  [ 7  9  6  4  4  8  9  9  1  3]\n",
      "  [ 0  1  6  7  9 10  1  1  5  4]\n",
      "  [ 5  3  4  9  9  3  4  0  3  2]\n",
      "  [ 3  0  5  2  7  5  7  1  6  0]\n",
      "  [ 6  6  2  7  5  5 10  8  6  2]\n",
      "  [10  0 10  1  6  1  3  7  7  6]\n",
      "  [ 3  0  1  8  1  9 10  1  1  8]\n",
      "  [ 8  6  6  2  3  3  2  6  5  3]\n",
      "  [ 3 10  4  5  6  7  7  2  6  2]]\n",
      "\n",
      " [[ 3  2  3 10  1  7  8  6  2  5]\n",
      "  [ 1  3  7  4  1  7 10  7  4  7]\n",
      "  [ 8  0  7  7  4  3  3 10 10  3]\n",
      "  [10  7  6  1 10  0 10  6  9  0]\n",
      "  [10  0 10  6  9  5  2  7  7  5]\n",
      "  [ 5  4  9  1  6  8  4  3  3  2]\n",
      "  [ 1  2  7  8  7  1  9  2  4  0]\n",
      "  [ 7  6  2  0  5 10  1  8  5  4]\n",
      "  [ 4  0  0  8  2  4  3  8  4  1]\n",
      "  [ 2  0  1  2  6  3  3  7 10  0]]]\n",
      "10\n",
      "[[0 3 5 8 5 0 0 3 3 8]\n",
      " [6 1 2 7 5 3 0 3 2 7]\n",
      " [6 2 3 2 0 8 7 4 7 0]\n",
      " [1 0 1 8 9 7 2 1 6 7]\n",
      " [0 6 9 1 3 1 1 2 4 4]\n",
      " [0 6 4 3 4 1 6 2 1 3]\n",
      " [7 2 7 2 1 6 9 2 3 2]\n",
      " [6 4 0 3 3 1 3 4 5 3]\n",
      " [2 1 5 2 3 0 2 1 1 2]\n",
      " [0 3 1 0 1 2 4 0 9 0]]\n",
      "10\n",
      "[[4 3 7 9 2 8 0 9 7 2]\n",
      " [3 1 3 4 9 4 4 8 8 5]\n",
      " [8 2 1 2 4 9 3 5 1 6]\n",
      " [7 3 1 5 8 1 7 0 2 5]\n",
      " [4 2 4 4 5 5 9 2 4 4]\n",
      " [1 2 0 4 1 0 9 0 7 6]\n",
      " [7 4 3 9 4 6 5 0 8 0]\n",
      " [4 4 6 4 2 3 2 0 2 4]\n",
      " [6 9 6 0 2 2 5 1 6 0]\n",
      " [3 3 4 0 3 7 1 2 2 1]]\n",
      "10\n",
      "[[6 6 4 1 0 0 1 2 5 0]\n",
      " [6 1 3 0 3 5 1 5 7 4]\n",
      " [5 2 1 6 4 7 1 3 0 5]\n",
      " [7 2 2 1 1 3 1 6 4 1]\n",
      " [6 1 1 0 8 4 0 5 4 1]\n",
      " [2 4 1 2 3 4 9 8 2 6]\n",
      " [7 0 0 2 1 1 5 0 0 1]\n",
      " [2 6 6 5 0 0 0 6 4 0]\n",
      " [3 1 5 3 4 6 0 6 0 1]\n",
      " [3 6 7 0 0 2 6 5 3 8]]\n"
     ]
    }
   ],
   "source": [
    "c = []\n",
    "for i in range(10):\n",
    "    d = []\n",
    "    for j in range(10):\n",
    "        d.append(getRandArr())\n",
    "    c.append(d)\n",
    "\n",
    "c = np.array(c)\n",
    "print(c)\n",
    "printArgmax(c, ax=0)\n",
    "printArgmax(c, ax=1)\n",
    "printArgmax(c, ax=2)"
   ]
  },
  {
   "cell_type": "code",
   "execution_count": null,
   "metadata": {
    "collapsed": true
   },
   "outputs": [],
   "source": []
  }
 ],
 "metadata": {
  "kernelspec": {
   "display_name": "Python 3",
   "language": "python",
   "name": "python3"
  },
  "language_info": {
   "codemirror_mode": {
    "name": "ipython",
    "version": 3
   },
   "file_extension": ".py",
   "mimetype": "text/x-python",
   "name": "python",
   "nbconvert_exporter": "python",
   "pygments_lexer": "ipython3",
   "version": "3.6.3"
  },
  "toc": {
   "nav_menu": {},
   "number_sections": true,
   "sideBar": true,
   "skip_h1_title": false,
   "toc_cell": false,
   "toc_position": {},
   "toc_section_display": "block",
   "toc_window_display": false
  },
  "varInspector": {
   "cols": {
    "lenName": 16,
    "lenType": 16,
    "lenVar": 40
   },
   "kernels_config": {
    "python": {
     "delete_cmd_postfix": "",
     "delete_cmd_prefix": "del ",
     "library": "var_list.py",
     "varRefreshCmd": "print(var_dic_list())"
    },
    "r": {
     "delete_cmd_postfix": ") ",
     "delete_cmd_prefix": "rm(",
     "library": "var_list.r",
     "varRefreshCmd": "cat(var_dic_list()) "
    }
   },
   "types_to_exclude": [
    "module",
    "function",
    "builtin_function_or_method",
    "instance",
    "_Feature"
   ],
   "window_display": false
  }
 },
 "nbformat": 4,
 "nbformat_minor": 2
}
