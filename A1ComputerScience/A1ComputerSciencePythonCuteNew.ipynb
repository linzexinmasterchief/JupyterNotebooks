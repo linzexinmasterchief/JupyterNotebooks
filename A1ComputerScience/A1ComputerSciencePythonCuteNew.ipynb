{
 "cells": [
  {
   "cell_type": "markdown",
   "metadata": {},
   "source": [
    "### determine if a student passes exam"
   ]
  },
  {
   "cell_type": "code",
   "execution_count": null,
   "metadata": {
    "collapsed": true
   },
   "outputs": [],
   "source": [
    "t1 = float(input(\"Input t1: \"))\n",
    "t2 = float(input(\"Input t2: \"))\n",
    "avg = (t1 + t2) / 2\n",
    "print(avg)\n",
    "if avg >= 80:\n",
    "    print(\"pass\")\n",
    "else:\n",
    "    print(\"fail\")\n"
   ]
  },
  {
   "cell_type": "markdown",
   "metadata": {},
   "source": [
    "### determine a student grade according to the score"
   ]
  },
  {
   "cell_type": "code",
   "execution_count": null,
   "metadata": {
    "collapsed": true
   },
   "outputs": [],
   "source": [
    "score = int(input(\"score: \"))\n",
    "if score >= 90:\n",
    "    print(\"a*\")\n",
    "elif score >= 80:\n",
    "    print(\"a\")\n",
    "elif score >= 70:\n",
    "    print(\"b\")\n",
    "elif score >= 60:\n",
    "    print(\"c\")\n",
    "else:\n",
    "    print(\"f\")"
   ]
  },
  {
   "cell_type": "markdown",
   "metadata": {},
   "source": [
    "### login pin"
   ]
  },
  {
   "cell_type": "code",
   "execution_count": null,
   "metadata": {
    "collapsed": true
   },
   "outputs": [],
   "source": [
    "pin = input(\"Input PIN: \")\n",
    "if pin == \"123\":\n",
    "    print(\"Log-in suessful\")\n",
    "else:\n",
    "    while pin != \"123\":\n",
    "        pin = input(\"incorrect pin. Input pin: \")\n",
    "    if pin == \"123\":\n",
    "        print(\"log-in successful\")"
   ]
  },
  {
   "cell_type": "markdown",
   "metadata": {},
   "source": [
    "### login with a limited try time"
   ]
  },
  {
   "cell_type": "code",
   "execution_count": null,
   "metadata": {
    "collapsed": true
   },
   "outputs": [],
   "source": [
    "for c in range(1, 4):\n",
    "    pw = input(\"input pw: \")\n",
    "    if pw == \"888\":\n",
    "        print(\"Welcome\")\n",
    "        break\n",
    "    elif c == 3:\n",
    "        print(\"Contact Admin\")\n",
    "    else:\n",
    "        print(\"Wrong pw. Input pw.\")"
   ]
  },
  {
   "cell_type": "markdown",
   "metadata": {},
   "source": [
    "### interate in the string and find the matches"
   ]
  },
  {
   "cell_type": "code",
   "execution_count": null,
   "metadata": {
    "collapsed": true
   },
   "outputs": [],
   "source": [
    "name = \"Hello how aaare youa\"\n",
    "\n",
    "count = 0\n",
    "for i in range (0, len(name)):\n",
    "    if name[i] == 'a':\n",
    "        count = count + 1\n",
    "print(count)"
   ]
  },
  {
   "cell_type": "code",
   "execution_count": null,
   "metadata": {
    "collapsed": true
   },
   "outputs": [],
   "source": [
    "name = \"Hello how aaare youa\"\n",
    "\n",
    "count = 0\n",
    "for i in name:\n",
    "    if i == 'a':\n",
    "        count = count + 1\n",
    "print(count)"
   ]
  },
  {
   "cell_type": "markdown",
   "metadata": {},
   "source": [
    "### palindrome"
   ]
  },
  {
   "cell_type": "code",
   "execution_count": null,
   "metadata": {
    "collapsed": true
   },
   "outputs": [],
   "source": [
    "isPalindrome = False\n",
    "word = input(\"Input a word: \")\n",
    "for i in range (0, int(len(word) / 2)):\n",
    "    if word[i] == word[len(word) - i - 1]:\n",
    "        isPalindrome = True\n",
    "    else:\n",
    "        isPalindrome = False\n",
    "        break\n",
    "if len(word) == 1:\n",
    "    isPalindrome = True\n",
    "if isPalindrome:\n",
    "    print(\"is Palindrome\")\n",
    "else:\n",
    "    print(\"not palindrome\")"
   ]
  },
  {
   "cell_type": "markdown",
   "metadata": {
    "collapsed": true
   },
   "source": [
    "### 2 dimensional array"
   ]
  },
  {
   "cell_type": "code",
   "execution_count": null,
   "metadata": {
    "collapsed": true,
    "scrolled": false
   },
   "outputs": [],
   "source": [
    "import random\n",
    "\n",
    "num = []\n",
    "#numberSize = [row amount, column amount]\n",
    "numberSize = [10,20]\n",
    "total = 0\n",
    "\n",
    "for i in range(0,numberSize[0]):\n",
    "    num.append([])\n",
    "    for j in range(0,numberSize[1]):\n",
    "        num[i].append(random.randint(10,99))\n",
    "    print(num[i])\n",
    "\n",
    "print()\n",
    "\n",
    "for i in range(0, len(num)):\n",
    "    total = 0\n",
    "    for j in range(0, len(num[i])):\n",
    "        total = total + num[i][j]\n",
    "    print(\"Class\",end=\" \")\n",
    "    print(num[i],end=\"\")\n",
    "    print(\"'s average is\",end=\" \")\n",
    "    print(total / len(num[i]))\n",
    "    "
   ]
  },
  {
   "cell_type": "markdown",
   "metadata": {},
   "source": [
    "### put the palindrome programe written before into a function"
   ]
  },
  {
   "cell_type": "code",
   "execution_count": null,
   "metadata": {
    "collapsed": true
   },
   "outputs": [],
   "source": [
    "def isWordPalidrome(word=\"a\"):\n",
    "    isPalindrome = False\n",
    "    for i in range (0, int(len(word) / 2)):\n",
    "        if word[i] == word[len(word) - i - 1]:\n",
    "            isPalindrome = True\n",
    "        else:\n",
    "            isPalindrome = False\n",
    "            break\n",
    "    if len(word) == 1:\n",
    "        isPalindrome = True\n",
    "    return isPalindrome\n",
    "        \n",
    "word = input(\"Enter a string: \")\n",
    "isPalindrome = isWordPalidrome(word)\n",
    "\n",
    "if isPalindrome:\n",
    "    print(\"is Palindrome\")\n",
    "else:\n",
    "    print(\"not palindrome\")"
   ]
  },
  {
   "cell_type": "markdown",
   "metadata": {},
   "source": [
    "### Function to convert denary to binary"
   ]
  },
  {
   "cell_type": "code",
   "execution_count": 47,
   "metadata": {},
   "outputs": [
    {
     "name": "stdout",
     "output_type": "stream",
     "text": [
      "101\n",
      "10\n",
      "0\n",
      "1\n"
     ]
    }
   ],
   "source": [
    "def denToBin(num = 0):\n",
    "    #array used to store the binary\n",
    "    binaryNum = []\n",
    "    while num > 0:\n",
    "        #append the remainder to the next postion of the array\n",
    "        binaryNum.append(num % 2)\n",
    "        num = int(num / 2)\n",
    "        \n",
    "    #integer used to store the final result (array -> integer)\n",
    "    answer = 0\n",
    "    for i in range(len(binaryNum) - 1, -1, -1):\n",
    "        #move every digit left for one digit\n",
    "        answer *= 10\n",
    "        #add the next digit to the last digit (0 -> num)\n",
    "        answer += binaryNum[i]\n",
    "    \n",
    "    #return the final answer as integer\n",
    "    return answer\n",
    "        \n",
    "print(denToBin(5))\n",
    "print(denToBin(2))\n",
    "print(denToBin(0))\n",
    "print(denToBin(1))"
   ]
  },
  {
   "cell_type": "markdown",
   "metadata": {},
   "source": [
    "### Function to convert binary to denary"
   ]
  },
  {
   "cell_type": "code",
   "execution_count": 5,
   "metadata": {},
   "outputs": [
    {
     "name": "stdout",
     "output_type": "stream",
     "text": [
      "5\n",
      "10\n",
      "21\n"
     ]
    }
   ],
   "source": [
    "def ConvertToDenary(var = \"\"):\n",
    "    binArray = []\n",
    "    for i in range(0, len(var)):\n",
    "        binArray.append(int(var[i]))\n",
    "    binArray = binArray[::-1]\n",
    "    \n",
    "    denaryNum = 0\n",
    "    for i in range(0, len(binArray)):\n",
    "        denaryNum += binArray[i] * (2 ** i)\n",
    "    return denaryNum\n",
    "\n",
    "\n",
    "\n",
    "print(ConvertToDenary(\"101\"))\n",
    "print(ConvertToDenary(\"1010\"))\n",
    "print(ConvertToDenary(\"10101\"))"
   ]
  },
  {
   "cell_type": "markdown",
   "metadata": {},
   "source": [
    "### Count the amount of word in a sentence"
   ]
  },
  {
   "cell_type": "code",
   "execution_count": 1,
   "metadata": {},
   "outputs": [
    {
     "name": "stdout",
     "output_type": "stream",
     "text": [
      "0\n",
      "0\n",
      "2\n",
      "0\n",
      "0\n",
      "0\n",
      "2\n",
      "0\n",
      "0\n",
      "0\n",
      "3\n"
     ]
    }
   ],
   "source": [
    "def CountWords(var = \"\"):\n",
    "    spaceAmount = 0\n",
    "    lastChar = \" \"\n",
    "    for i in var:\n",
    "        if i == \" \" and lastChar != \" \":\n",
    "            spaceAmount += 1\n",
    "        \n",
    "        if (65 <= ord(i) and ord(i) <= 90) or (97 <= ord(i) and ord(i) <= 122):\n",
    "            lastChar = id\n",
    "        else:\n",
    "            print(\"0\")\n",
    "            lastChar = \" \"\n",
    "    return spaceAmount + 1\n",
    "\n",
    "print(CountWords(\"Hello World!\"))\n",
    "print(CountWords(\" Hello World!\"))\n",
    "print(CountWords(\"Hello World !\"))"
   ]
  },
  {
   "cell_type": "code",
   "execution_count": null,
   "metadata": {
    "collapsed": true
   },
   "outputs": [],
   "source": [
    "f = open(\"blank.txt\", \"w\")\n",
    "f.write()"
   ]
  }
 ],
 "metadata": {
  "celltoolbar": "Tags",
  "kernelspec": {
   "display_name": "Python 3",
   "language": "python",
   "name": "python3"
  },
  "language_info": {
   "codemirror_mode": {
    "name": "ipython",
    "version": 3
   },
   "file_extension": ".py",
   "mimetype": "text/x-python",
   "name": "python",
   "nbconvert_exporter": "python",
   "pygments_lexer": "ipython3",
   "version": "3.6.2"
  },
  "toc": {
   "colors": {
    "hover_highlight": "#DAA520",
    "navigate_num": "#000000",
    "navigate_text": "#333333",
    "running_highlight": "#FF0000",
    "selected_highlight": "#FFD700",
    "sidebar_border": "#EEEEEE",
    "wrapper_background": "#28282d"
   },
   "moveMenuLeft": true,
   "nav_menu": {
    "height": "4px",
    "width": "254px"
   },
   "navigate_menu": true,
   "number_sections": true,
   "sideBar": true,
   "threshold": 4,
   "toc_cell": false,
   "toc_section_display": "block",
   "toc_window_display": false,
   "widenNotebook": false
  },
  "varInspector": {
   "cols": {
    "lenName": 16,
    "lenType": 16,
    "lenVar": 40
   },
   "kernels_config": {
    "python": {
     "delete_cmd_postfix": "",
     "delete_cmd_prefix": "del ",
     "library": "var_list.py",
     "varRefreshCmd": "print(var_dic_list())"
    },
    "r": {
     "delete_cmd_postfix": ") ",
     "delete_cmd_prefix": "rm(",
     "library": "var_list.r",
     "varRefreshCmd": "cat(var_dic_list()) "
    }
   },
   "types_to_exclude": [
    "module",
    "function",
    "builtin_function_or_method",
    "instance",
    "_Feature"
   ],
   "window_display": false
  }
 },
 "nbformat": 4,
 "nbformat_minor": 2
}
