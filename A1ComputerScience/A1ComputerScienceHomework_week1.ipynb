{
 "cells": [
  {
   "cell_type": "markdown",
   "metadata": {},
   "source": [
    "### Accept 10 numbers from the user and output the highest"
   ]
  },
  {
   "cell_type": "code",
   "execution_count": 2,
   "metadata": {
    "extensions": {
     "jupyter_dashboards": {
      "version": 1,
      "views": {
       "grid_default": {
        "hidden": true
       },
       "report_default": {}
      }
     }
    },
    "slideshow": {
     "slide_type": "-"
    }
   },
   "outputs": [
    {
     "name": "stdout",
     "output_type": "stream",
     "text": [
      "enter a float: saegfarwg325435y\n",
      "not a float\n",
      "enter a float: 21r3\n",
      "not a float\n",
      "enter a float: 23\n",
      "Input next number: 24\n",
      "Input next number: 35\n",
      "Input next number: 64\n",
      "Input next number: 2\n",
      "Input next number: 46\n",
      "Input next number: 57\n",
      "Input next number: 2\n",
      "Input next number: 573\n",
      "Input next number: 45\n",
      "The largest number is  573.0\n"
     ]
    }
   ],
   "source": [
    "from lzxPyLib.StrongerInput import *\n",
    "\n",
    "num = 0.0\n",
    "highest = 0.0\n",
    "\n",
    "highest = FloatInput()\n",
    "        \n",
    "for i in range (1, 10):\n",
    "    while True:\n",
    "        #test inputs\n",
    "        #if input is a number\n",
    "        num = FloatInput()\n",
    "\n",
    "    if num > highest:\n",
    "        highest = num\n",
    "        \n",
    "print(\"The largest number is \", highest)"
   ]
  },
  {
   "cell_type": "markdown",
   "metadata": {},
   "source": [
    "### Accept 10 numbers from the user and output the average."
   ]
  },
  {
   "cell_type": "code",
   "execution_count": 5,
   "metadata": {
    "extensions": {
     "jupyter_dashboards": {
      "version": 1,
      "views": {
       "grid_default": {
        "hidden": true
       },
       "report_default": {}
      }
     }
    }
   },
   "outputs": [
    {
     "name": "stdout",
     "output_type": "stream",
     "text": [
      "enter a float: warg\n",
      "not a float\n",
      "enter a float: 3245\n",
      "enter a float: 23\n",
      "enter a float: 234\n",
      "enter a float: 21q45\n",
      "not a float\n",
      "enter a float: 13245\n",
      "enter a float: 34632\n",
      "enter a float: 6\n",
      "enter a float: 5436\n",
      "enter a float: 345\n",
      "enter a float: 3415\n",
      "enter a float: 345\n",
      "The average number is  6092.6\n"
     ]
    }
   ],
   "source": [
    "from lzxPyLib.StrongerInput import *\n",
    "\n",
    "total = 0.0\n",
    "num = 0.0\n",
    "\n",
    "for i in range (1, 11):\n",
    "    num = FloatInput()\n",
    "        \n",
    "    total = total + num\n",
    "    \n",
    "print(\"The average number is \", total / 10)"
   ]
  },
  {
   "cell_type": "markdown",
   "metadata": {},
   "source": [
    "### Accept a number from the user and output its factorial."
   ]
  },
  {
   "cell_type": "code",
   "execution_count": 6,
   "metadata": {
    "extensions": {
     "jupyter_dashboards": {
      "version": 1,
      "views": {
       "grid_default": {
        "hidden": true
       },
       "report_default": {}
      }
     }
    }
   },
   "outputs": [
    {
     "name": "stdout",
     "output_type": "stream",
     "text": [
      "enter a integer: ewrgreag\n",
      "not a number\n",
      "enter a integer: 23rtf\n",
      "not a number\n",
      "enter a integer: 24tq324\n",
      "not a number\n",
      "enter a integer: 2.2\n",
      "not a integer\n",
      "enter a integer: 245\n",
      "the factorial is  3446381088548184667326770790875951922006976951375582384611003611981639529782351868763804143237672379379846868628577527599609043944010849343355183826916579274876093562728501050027821075609832035303654996749361753195163012769070700485723141551669720900953728011558584003035375928212655846940281367061125645619508966404523085638743763256980870494465156859819224514274661087972929242817912092409671474491631797677547338910924800000000000000000000000000000000000000000000000000000000000\n"
     ]
    }
   ],
   "source": [
    "from lzxPyLib.StrongerInput import *\n",
    "\n",
    "num = 0.0\n",
    "factorial = 1\n",
    "\n",
    "num = IntInput()\n",
    "\n",
    "for i in range (1, num + 1):\n",
    "    factorial = factorial * i\n",
    "    \n",
    "print(\"the factorial is \",factorial)"
   ]
  },
  {
   "cell_type": "markdown",
   "metadata": {},
   "source": [
    "### Accept a number from the user and output whether or not it is a prime number."
   ]
  },
  {
   "cell_type": "code",
   "execution_count": 7,
   "metadata": {
    "extensions": {
     "jupyter_dashboards": {
      "version": 1,
      "views": {
       "grid_default": {
        "hidden": true
       },
       "report_default": {}
      }
     }
    }
   },
   "outputs": [
    {
     "name": "stdout",
     "output_type": "stream",
     "text": [
      "enter a integer: 4\n",
      "4 is not a prime number\n"
     ]
    }
   ],
   "source": [
    "from lzxPyLib.StrongerInput import *\n",
    "\n",
    "num = 0.0\n",
    "isPrime = True\n",
    "\n",
    "num = IntInput()\n",
    "\n",
    "#\"int(num / 2) + 1\" avoids unnessesary calulations\n",
    "#because a factor can't be bigger than half of the number\n",
    "for i in range (2, int(num / 2) + 1):\n",
    "    if num % i == 0:\n",
    "        isPrime = False\n",
    "        break\n",
    "#1 is not a prime number\n",
    "if num == 1:\n",
    "    isPrime = False\n",
    "#output the answer\n",
    "if isPrime:\n",
    "    print(str(num) + \" is a prime number\")\n",
    "else:\n",
    "    print(str(num) + \" is not a prime number\")"
   ]
  },
  {
   "cell_type": "markdown",
   "metadata": {},
   "source": [
    "### Accept a number ‘N’ from the user and output  the first N Fibonacci numbers."
   ]
  },
  {
   "cell_type": "code",
   "execution_count": 10,
   "metadata": {
    "extensions": {
     "jupyter_dashboards": {
      "version": 1,
      "views": {
       "grid_default": {
        "hidden": true
       },
       "report_default": {}
      }
     }
    },
    "scrolled": false
   },
   "outputs": [
    {
     "name": "stdout",
     "output_type": "stream",
     "text": [
      "enter a integer: 23\n",
      "1,1,2,3,5,8,13,21,34,55,89,144,233,377,610,987,1597,2584,4181,6765,10946,17711,28657\n"
     ]
    }
   ],
   "source": [
    "from lzxPyLib.StrongerInput import *\n",
    "\n",
    "num = 0\n",
    "total = 1\n",
    "current = 0\n",
    "previous = 0\n",
    "\n",
    "num = IntInput()\n",
    "\n",
    "for i in range (1, num):\n",
    "#     print(\"Fibonacci number \" + str(i) + \" is \" + str(total))\n",
    "    print(total, end=\",\")\n",
    "    previous = current\n",
    "    current = total\n",
    "    total = previous + current\n",
    "print(total)\n",
    "# print(\"Fibonacci number \" + str(i+1) + \" is \" + str(total))"
   ]
  }
 ],
 "metadata": {
  "extensions": {
   "jupyter_dashboards": {
    "activeView": "grid_default",
    "version": 1,
    "views": {
     "grid_default": {
      "cellMargin": 10,
      "defaultCellHeight": 20,
      "maxColumns": 12,
      "name": "grid",
      "type": "grid"
     },
     "report_default": {
      "name": "report",
      "type": "report"
     }
    }
   }
  },
  "kernelspec": {
   "display_name": "Python 3",
   "language": "python",
   "name": "python3"
  },
  "language_info": {
   "codemirror_mode": {
    "name": "ipython",
    "version": 3
   },
   "file_extension": ".py",
   "mimetype": "text/x-python",
   "name": "python",
   "nbconvert_exporter": "python",
   "pygments_lexer": "ipython3",
   "version": "3.6.2"
  },
  "toc": {
   "colors": {
    "hover_highlight": "#DAA520",
    "navigate_num": "#000000",
    "navigate_text": "#333333",
    "running_highlight": "#FF0000",
    "selected_highlight": "#FFD700",
    "sidebar_border": "#EEEEEE",
    "wrapper_background": "#28282d"
   },
   "moveMenuLeft": true,
   "nav_menu": {
    "height": "143px",
    "width": "254px"
   },
   "navigate_menu": true,
   "number_sections": true,
   "sideBar": true,
   "threshold": 4,
   "toc_cell": false,
   "toc_position": {
    "height": "576px",
    "left": "0px",
    "right": "1154px",
    "top": "124px",
    "width": "212px"
   },
   "toc_section_display": "block",
   "toc_window_display": false,
   "widenNotebook": false
  },
  "varInspector": {
   "cols": {
    "lenName": 16,
    "lenType": 16,
    "lenVar": 40
   },
   "kernels_config": {
    "python": {
     "delete_cmd_postfix": "",
     "delete_cmd_prefix": "del ",
     "library": "var_list.py",
     "varRefreshCmd": "print(var_dic_list())"
    },
    "r": {
     "delete_cmd_postfix": ") ",
     "delete_cmd_prefix": "rm(",
     "library": "var_list.r",
     "varRefreshCmd": "cat(var_dic_list()) "
    }
   },
   "types_to_exclude": [
    "module",
    "function",
    "builtin_function_or_method",
    "instance",
    "_Feature"
   ],
   "window_display": false
  }
 },
 "nbformat": 4,
 "nbformat_minor": 2
}
