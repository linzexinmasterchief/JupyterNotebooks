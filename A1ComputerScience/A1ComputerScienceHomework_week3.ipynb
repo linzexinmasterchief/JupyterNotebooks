{
 "cells": [
  {
   "cell_type": "markdown",
   "metadata": {
    "toc": "true"
   },
   "source": [
    "# Table of Contents\n",
    " <p>"
   ]
  },
  {
   "cell_type": "code",
   "execution_count": 9,
   "metadata": {},
   "outputs": [
    {
     "name": "stdout",
     "output_type": "stream",
     "text": [
      "2 X 2 = 4  |2 X 3 = 6  |2 X 4 = 8  |2 X 5 = 10 |2 X 6 = 12 |2 X 7 = 14 |2 X 8 = 16 |2 X 9 = 18 |2 X 10 = 20 |\n",
      "3 X 2 = 6  |3 X 3 = 9  |3 X 4 = 12 |3 X 5 = 15 |3 X 6 = 18 |3 X 7 = 21 |3 X 8 = 24 |3 X 9 = 27 |3 X 10 = 30 |\n",
      "4 X 2 = 8  |4 X 3 = 12 |4 X 4 = 16 |4 X 5 = 20 |4 X 6 = 24 |4 X 7 = 28 |4 X 8 = 32 |4 X 9 = 36 |4 X 10 = 40 |\n",
      "5 X 2 = 10 |5 X 3 = 15 |5 X 4 = 20 |5 X 5 = 25 |5 X 6 = 30 |5 X 7 = 35 |5 X 8 = 40 |5 X 9 = 45 |5 X 10 = 50 |\n",
      "6 X 2 = 12 |6 X 3 = 18 |6 X 4 = 24 |6 X 5 = 30 |6 X 6 = 36 |6 X 7 = 42 |6 X 8 = 48 |6 X 9 = 54 |6 X 10 = 60 |\n",
      "7 X 2 = 14 |7 X 3 = 21 |7 X 4 = 28 |7 X 5 = 35 |7 X 6 = 42 |7 X 7 = 49 |7 X 8 = 56 |7 X 9 = 63 |7 X 10 = 70 |\n",
      "8 X 2 = 16 |8 X 3 = 24 |8 X 4 = 32 |8 X 5 = 40 |8 X 6 = 48 |8 X 7 = 56 |8 X 8 = 64 |8 X 9 = 72 |8 X 10 = 80 |\n",
      "9 X 2 = 18 |9 X 3 = 27 |9 X 4 = 36 |9 X 5 = 45 |9 X 6 = 54 |9 X 7 = 63 |9 X 8 = 72 |9 X 9 = 81 |9 X 10 = 90 |\n",
      "10 X 2 = 20|10 X 3 = 30|10 X 4 = 40|10 X 5 = 50|10 X 6 = 60|10 X 7 = 70|10 X 8 = 80|10 X 9 = 90|10 X 10 = 100|\n"
     ]
    }
   ],
   "source": [
    "#multiplication table\n",
    "for i in range(2, 11):\n",
    "    for j in range(2, 11):\n",
    "        if (i * j / 10) < 1:\n",
    "            print(str(i) + \" X \" + str(j) + \" = \" + str(i * j), end=\"  |\")\n",
    "        else:\n",
    "            if i >= 10:\n",
    "                print(str(i) + \" X \" + str(j) + \" = \" + str(i * j), end=\"|\")\n",
    "            else:\n",
    "                print(str(i) + \" X \" + str(j) + \" = \" + str(i * j), end=\" |\")\n",
    "    print(\"\")"
   ]
  },
  {
   "cell_type": "code",
   "execution_count": 6,
   "metadata": {},
   "outputs": [
    {
     "name": "stdout",
     "output_type": "stream",
     "text": [
      "Enter an integer: 40\n",
      "1  \n",
      "2  2  \n",
      "3  3  3  \n",
      "4  4  4  4  \n",
      "5  5  5  5  5  \n",
      "6  6  6  6  6  6  \n",
      "7  7  7  7  7  7  7  \n",
      "8  8  8  8  8  8  8  8  \n",
      "9  9  9  9  9  9  9  9  9  \n",
      "10 10 10 10 10 10 10 10 10 10 \n",
      "11 11 11 11 11 11 11 11 11 11 11 \n",
      "12 12 12 12 12 12 12 12 12 12 12 12 \n",
      "13 13 13 13 13 13 13 13 13 13 13 13 13 \n",
      "14 14 14 14 14 14 14 14 14 14 14 14 14 14 \n",
      "15 15 15 15 15 15 15 15 15 15 15 15 15 15 15 \n",
      "16 16 16 16 16 16 16 16 16 16 16 16 16 16 16 16 \n",
      "17 17 17 17 17 17 17 17 17 17 17 17 17 17 17 17 17 \n",
      "18 18 18 18 18 18 18 18 18 18 18 18 18 18 18 18 18 18 \n",
      "19 19 19 19 19 19 19 19 19 19 19 19 19 19 19 19 19 19 19 \n",
      "20 20 20 20 20 20 20 20 20 20 20 20 20 20 20 20 20 20 20 20 \n",
      "21 21 21 21 21 21 21 21 21 21 21 21 21 21 21 21 21 21 21 21 21 \n",
      "22 22 22 22 22 22 22 22 22 22 22 22 22 22 22 22 22 22 22 22 22 22 \n",
      "23 23 23 23 23 23 23 23 23 23 23 23 23 23 23 23 23 23 23 23 23 23 23 \n",
      "24 24 24 24 24 24 24 24 24 24 24 24 24 24 24 24 24 24 24 24 24 24 24 24 \n",
      "25 25 25 25 25 25 25 25 25 25 25 25 25 25 25 25 25 25 25 25 25 25 25 25 25 \n",
      "26 26 26 26 26 26 26 26 26 26 26 26 26 26 26 26 26 26 26 26 26 26 26 26 26 26 \n",
      "27 27 27 27 27 27 27 27 27 27 27 27 27 27 27 27 27 27 27 27 27 27 27 27 27 27 27 \n",
      "28 28 28 28 28 28 28 28 28 28 28 28 28 28 28 28 28 28 28 28 28 28 28 28 28 28 28 28 \n",
      "29 29 29 29 29 29 29 29 29 29 29 29 29 29 29 29 29 29 29 29 29 29 29 29 29 29 29 29 29 \n",
      "30 30 30 30 30 30 30 30 30 30 30 30 30 30 30 30 30 30 30 30 30 30 30 30 30 30 30 30 30 30 \n",
      "31 31 31 31 31 31 31 31 31 31 31 31 31 31 31 31 31 31 31 31 31 31 31 31 31 31 31 31 31 31 31 \n",
      "32 32 32 32 32 32 32 32 32 32 32 32 32 32 32 32 32 32 32 32 32 32 32 32 32 32 32 32 32 32 32 32 \n",
      "33 33 33 33 33 33 33 33 33 33 33 33 33 33 33 33 33 33 33 33 33 33 33 33 33 33 33 33 33 33 33 33 33 \n",
      "34 34 34 34 34 34 34 34 34 34 34 34 34 34 34 34 34 34 34 34 34 34 34 34 34 34 34 34 34 34 34 34 34 34 \n",
      "35 35 35 35 35 35 35 35 35 35 35 35 35 35 35 35 35 35 35 35 35 35 35 35 35 35 35 35 35 35 35 35 35 35 35 \n",
      "36 36 36 36 36 36 36 36 36 36 36 36 36 36 36 36 36 36 36 36 36 36 36 36 36 36 36 36 36 36 36 36 36 36 36 36 \n",
      "37 37 37 37 37 37 37 37 37 37 37 37 37 37 37 37 37 37 37 37 37 37 37 37 37 37 37 37 37 37 37 37 37 37 37 37 37 \n",
      "38 38 38 38 38 38 38 38 38 38 38 38 38 38 38 38 38 38 38 38 38 38 38 38 38 38 38 38 38 38 38 38 38 38 38 38 38 38 \n",
      "39 39 39 39 39 39 39 39 39 39 39 39 39 39 39 39 39 39 39 39 39 39 39 39 39 39 39 39 39 39 39 39 39 39 39 39 39 39 39 \n",
      "40 40 40 40 40 40 40 40 40 40 40 40 40 40 40 40 40 40 40 40 40 40 40 40 40 40 40 40 40 40 40 40 40 40 40 40 40 40 40 40 \n"
     ]
    }
   ],
   "source": [
    "num = int(input(\"Enter an integer: \"))\n",
    "for i in range(1, num + 1):\n",
    "    for j in range(0, i):\n",
    "        if (i / 10) < 1:\n",
    "            print(i, end=\"  \")\n",
    "        else:\n",
    "            print(i, end=\" \")\n",
    "    print(\"\")"
   ]
  }
 ],
 "metadata": {
  "kernelspec": {
   "display_name": "Python 3",
   "language": "python",
   "name": "python3"
  },
  "language_info": {
   "codemirror_mode": {
    "name": "ipython",
    "version": 3
   },
   "file_extension": ".py",
   "mimetype": "text/x-python",
   "name": "python",
   "nbconvert_exporter": "python",
   "pygments_lexer": "ipython3",
   "version": "3.6.2"
  },
  "toc": {
   "colors": {
    "hover_highlight": "#DAA520",
    "navigate_num": "#000000",
    "navigate_text": "#333333",
    "running_highlight": "#FF0000",
    "selected_highlight": "#FFD700",
    "sidebar_border": "#EEEEEE",
    "wrapper_background": "#28282d"
   },
   "moveMenuLeft": true,
   "nav_menu": {
    "height": "4px",
    "width": "254px"
   },
   "navigate_menu": true,
   "number_sections": true,
   "sideBar": true,
   "threshold": 4,
   "toc_cell": true,
   "toc_section_display": "block",
   "toc_window_display": false,
   "widenNotebook": false
  },
  "varInspector": {
   "cols": {
    "lenName": 16,
    "lenType": 16,
    "lenVar": 40
   },
   "kernels_config": {
    "python": {
     "delete_cmd_postfix": "",
     "delete_cmd_prefix": "del ",
     "library": "var_list.py",
     "varRefreshCmd": "print(var_dic_list())"
    },
    "r": {
     "delete_cmd_postfix": ") ",
     "delete_cmd_prefix": "rm(",
     "library": "var_list.r",
     "varRefreshCmd": "cat(var_dic_list()) "
    }
   },
   "types_to_exclude": [
    "module",
    "function",
    "builtin_function_or_method",
    "instance",
    "_Feature"
   ],
   "window_display": false
  }
 },
 "nbformat": 4,
 "nbformat_minor": 2
}
