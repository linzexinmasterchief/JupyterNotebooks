{
 "cells": [
  {
   "cell_type": "code",
   "execution_count": 1,
   "metadata": {},
   "outputs": [],
   "source": [
    "import math"
   ]
  },
  {
   "cell_type": "code",
   "execution_count": 2,
   "metadata": {},
   "outputs": [],
   "source": [
    "class Shape():\n",
    "\tdef __init__(self, Color = \"green\", Filled = True):\n",
    "\t\tself.__Color = Color\n",
    "\t\tself.__Filled = Filled\n",
    "\n",
    "\tdef GetColor(self):\n",
    "\t\treturn self.__Color\n",
    "\n",
    "\tdef SetColor(self, Color):\n",
    "\t\tself.__Color = Color\n",
    "\n",
    "\tdef GetFilled(self):\n",
    "\t\treturn self.__Filled\n",
    "\n",
    "\tdef SetFilled(self, Filled):\n",
    "\t\tself.__Filled = Filled\n",
    "\n",
    "\tdef ToString(self):\n",
    "\t\tif self.__Filled:\n",
    "\t\t\treturn \"A Shape with color of \" + str(self.__Color) + \" and filled\"\n",
    "\t\telse:\n",
    "\t\t\treturn \"A Shape with color of \" + str(self.__Color) + \" and not filled\""
   ]
  },
  {
   "cell_type": "code",
   "execution_count": 3,
   "metadata": {},
   "outputs": [],
   "source": [
    "class Circle(Shape):\n",
    "\tdef __init__(self, Radius = 1.0, Color = \"green\", Filled = True):\n",
    "\t\tsuper(Shape, self).__init__(Color, Filled)\n",
    "\t\tself.__Radius = Radius\n",
    "\n",
    "\tdef GetRadius(self):\n",
    "\t\treturn self.__Radius\n",
    "\n",
    "\tdef SetRadius(self, Radius):\n",
    "\t\tself.__Radius = Radius\n",
    "\n",
    "\tdef CalcArea(self):\n",
    "\t\treturn math.PI * self.__Radius ^ 2\n",
    "\n",
    "\tdef CalcPerimeter(self):\n",
    "\t\treturn math.PI * self.__Radius * 2\n",
    "\n",
    "\tdef ToString(self):\n",
    "\t\treturn \"A Circle with radius = \" + str(self.__Radius) + \", which is a subclass of \" + super().ToString()"
   ]
  },
  {
   "cell_type": "code",
   "execution_count": 4,
   "metadata": {},
   "outputs": [],
   "source": [
    "class Rectangle(Shape):\n",
    "\tdef __init__(self, Width = 0.0, Length = 0.0, Color = \"green\", Filled = True):\n",
    "\t\tsuper(Rectangle, self).__init__(Color, Filled)\n",
    "\t\tself.__Width = Width\n",
    "\t\tself.__Length = Length\n",
    "\n",
    "\tdef GetWidth(self):\n",
    "\t\treturn self.__Width\n",
    "\n",
    "\tdef SetWidth(self, Width):\n",
    "\t\tself.__Width = Width\n",
    "\n",
    "\tdef GetLength(self):\n",
    "\t\treturn self.__Length\n",
    "\n",
    "\tdef SetLength(self, Length):\n",
    "\t\tself.__Length = Length\n",
    "\n",
    "\tdef CalcArea(self):\n",
    "\t\treturn self.__Width * self.__Length\n",
    "\n",
    "\tdef CalcPerimeter(self):\n",
    "\t\treturn (self.__Width + self.__Length) * 2\n",
    "\n",
    "\tdef ToString(self):\n",
    "\t\treturn \"A Rectangle with width = \" + str(self.__Width) + \" and length = \" + str(self.__Length) + \", which is a subclass of \" + super().ToString()"
   ]
  },
  {
   "cell_type": "code",
   "execution_count": 5,
   "metadata": {},
   "outputs": [
    {
     "name": "stdout",
     "output_type": "stream",
     "text": [
      "True\n",
      "4\n"
     ]
    }
   ],
   "source": [
    "rect = Rectangle(2, 2, \"RED\", True)\n",
    "print(rect.GetFilled())\n",
    "print(rect.CalcArea())"
   ]
  },
  {
   "cell_type": "markdown",
   "metadata": {},
   "source": [
    "### Encapsulation"
   ]
  },
  {
   "cell_type": "code",
   "execution_count": 6,
   "metadata": {},
   "outputs": [],
   "source": [
    "class Lesson:\n",
    "    def __init__(self, LessonTitle=\"\", DurationMinutes=0, RequiresLab=True):\n",
    "        self.LessonTitle = LessonTitle\n",
    "        self.DurationMinutes = DurationMinutes\n",
    "        self.RequiresLab = RequiresLab\n",
    "        \n",
    "    def OutputLessonDetails(self):\n",
    "        print(self.LessonTitle)\n",
    "        print(self.DurationMinutes)\n",
    "        print(self.RequiresLab)\n",
    "        "
   ]
  },
  {
   "cell_type": "code",
   "execution_count": 7,
   "metadata": {},
   "outputs": [],
   "source": [
    "class Assessment:\n",
    "    def __init__(self, AssessmentTitle=\"\", MaxMarks=0):\n",
    "        self.AssessmentTitle = AssessmentTitle\n",
    "        self.MaxMarks = MaxMarks\n",
    "    \n",
    "    def OutputAssessmentDetails(self):\n",
    "        print(self.AssessmentTitle)\n",
    "        print(self.MaxMarks)"
   ]
  },
  {
   "cell_type": "code",
   "execution_count": 13,
   "metadata": {},
   "outputs": [],
   "source": [
    "class Course:\n",
    "    def __init__(self, CourseTitle=\"\", MaxStudent=0, NumberOfLessons=0):\n",
    "        self.CourseTitle = CourseTitle\n",
    "        self.MaxStudent = MaxStudent\n",
    "        self.NumberOfLessons = NumberOfLessons\n",
    "        self.CourseLesson = []\n",
    "        self.CourseAssessment = None\n",
    "        \n",
    "    def AddLesson(self, Lesson):\n",
    "        self.CourseLesson.append(Lesson)\n",
    "    \n",
    "    def AddAssessment(self, Assessment):\n",
    "        self.Assessment = Assessment\n",
    "    \n",
    "    def OutputCourseDetails(self):\n",
    "        print(self.CourseTitle)\n",
    "        print(self.MaxStudent)\n",
    "        print(self.NumberOfLessons)\n",
    "        print(self.CourseLesson)\n",
    "        print(self.CourseAssessment)"
   ]
  },
  {
   "cell_type": "code",
   "execution_count": 14,
   "metadata": {},
   "outputs": [],
   "source": [
    "math = Course(CourseTitle=\"Mathmatics\", MaxStudent=20, NumberOfLessons=12)"
   ]
  },
  {
   "cell_type": "code",
   "execution_count": 15,
   "metadata": {},
   "outputs": [],
   "source": [
    "math.AddLesson(\"Lesson01\")"
   ]
  },
  {
   "cell_type": "code",
   "execution_count": 16,
   "metadata": {},
   "outputs": [
    {
     "name": "stdout",
     "output_type": "stream",
     "text": [
      "Mathmatics\n",
      "20\n",
      "12\n",
      "['Lesson01']\n",
      "None\n"
     ]
    }
   ],
   "source": [
    "math.OutputCourseDetails()"
   ]
  }
 ],
 "metadata": {
  "kernelspec": {
   "display_name": "Python 3",
   "language": "python",
   "name": "python3"
  },
  "language_info": {
   "codemirror_mode": {
    "name": "ipython",
    "version": 3
   },
   "file_extension": ".py",
   "mimetype": "text/x-python",
   "name": "python",
   "nbconvert_exporter": "python",
   "pygments_lexer": "ipython3",
   "version": "3.6.5"
  },
  "latex_envs": {
   "LaTeX_envs_menu_present": true,
   "autoclose": false,
   "autocomplete": true,
   "bibliofile": "biblio.bib",
   "cite_by": "apalike",
   "current_citInitial": 1,
   "eqLabelWithNumbers": true,
   "eqNumInitial": 1,
   "hotkeys": {
    "equation": "Ctrl-E",
    "itemize": "Ctrl-I"
   },
   "labels_anchors": false,
   "latex_user_defs": false,
   "report_style_numbering": false,
   "user_envs_cfg": false
  },
  "varInspector": {
   "cols": {
    "lenName": 16,
    "lenType": 16,
    "lenVar": 40
   },
   "kernels_config": {
    "python": {
     "delete_cmd_postfix": "",
     "delete_cmd_prefix": "del ",
     "library": "var_list.py",
     "varRefreshCmd": "print(var_dic_list())"
    },
    "r": {
     "delete_cmd_postfix": ") ",
     "delete_cmd_prefix": "rm(",
     "library": "var_list.r",
     "varRefreshCmd": "cat(var_dic_list()) "
    }
   },
   "types_to_exclude": [
    "module",
    "function",
    "builtin_function_or_method",
    "instance",
    "_Feature"
   ],
   "window_display": false
  }
 },
 "nbformat": 4,
 "nbformat_minor": 2
}
