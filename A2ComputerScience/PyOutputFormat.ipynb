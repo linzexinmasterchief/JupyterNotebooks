{
 "cells": [
  {
   "cell_type": "code",
   "execution_count": 2,
   "metadata": {},
   "outputs": [
    {
     "name": "stdout",
     "output_type": "stream",
     "text": [
      "占4个长度               |占8个长度                       |占12长度                           \n",
      "       占4个长度        |           占8个长度            |             占12长度              \n"
     ]
    }
   ],
   "source": [
    "mat = \"{:20}|{:28}|{:32}\"\n",
    "print(mat.format(\"占4个长度\",\"占8个长度\", \"占12长度\"))\n",
    "#如果需要居中输出在宽度前面加一个^\n",
    "mat = \"{:^20}|{:^28}|{:^32}\"\n",
    "print(mat.format(\"占4个长度\",\"占8个长度\", \"占12长度\"))"
   ]
  },
  {
   "cell_type": "code",
   "execution_count": 7,
   "metadata": {},
   "outputs": [
    {
     "name": "stdout",
     "output_type": "stream",
     "text": [
      ">                   |>                   |>                   \n",
      ">>                  |>>                  |>>                  \n",
      ">>>                 |>>>                 |>>>                 \n",
      ">>>>                |>>>>                |>>>>                \n",
      ">>>>>               |>>>>>               |>>>>>               \n",
      ">>>>>>              |>>>>>>              |>>>>>>              \n",
      ">>>>>>>             |>>>>>>>             |>>>>>>>             \n",
      ">>>>>>>>            |>>>>>>>>            |>>>>>>>>            \n",
      ">>>>>>>>>           |>>>>>>>>>           |>>>>>>>>>           \n",
      ">>>>>>>>>>          |>>>>>>>>>>          |>>>>>>>>>>          \n",
      ">>>>>>>>>>>         |>>>>>>>>>>>         |>>>>>>>>>>>         \n",
      ">>>>>>>>>>>>        |>>>>>>>>>>>>        |>>>>>>>>>>>>        \n",
      ">>>>>>>>>>>>>       |>>>>>>>>>>>>>       |>>>>>>>>>>>>>       \n",
      ">>>>>>>>>>>>>>      |>>>>>>>>>>>>>>      |>>>>>>>>>>>>>>      \n",
      ">>>>>>>>>>>>>>>     |>>>>>>>>>>>>>>>     |>>>>>>>>>>>>>>>     \n",
      ">>>>>>>>>>>>>>>>    |>>>>>>>>>>>>>>>>    |>>>>>>>>>>>>>>>>    \n",
      ">>>>>>>>>>>>>>>>>   |>>>>>>>>>>>>>>>>>   |>>>>>>>>>>>>>>>>>   \n",
      ">>>>>>>>>>>>>>>>>>  |>>>>>>>>>>>>>>>>>>  |>>>>>>>>>>>>>>>>>>  \n",
      ">>>>>>>>>>>>>>>>>>> |>>>>>>>>>>>>>>>>>>> |>>>>>>>>>>>>>>>>>>> \n",
      ">>>>>>>>>>>>>>>>>>>>|>>>>>>>>>>>>>>>>>>>>|>>>>>>>>>>>>>>>>>>>>\n"
     ]
    }
   ],
   "source": [
    "import time\n",
    "\n",
    "mat = \"{:20}|{:20}|{:20}\"\n",
    "a, b , c = \"\", \"\", \"\"\n",
    "\n",
    "for i in range(20):\n",
    "    temp = a + \">\"\n",
    "    a, b, c = temp, temp, temp\n",
    "    print(mat.format(a, b, c))\n",
    "    time.sleep(0.1)"
   ]
  },
  {
   "cell_type": "code",
   "execution_count": null,
   "metadata": {},
   "outputs": [],
   "source": []
  }
 ],
 "metadata": {
  "kernelspec": {
   "display_name": "Python 3",
   "language": "python",
   "name": "python3"
  },
  "language_info": {
   "codemirror_mode": {
    "name": "ipython",
    "version": 3
   },
   "file_extension": ".py",
   "mimetype": "text/x-python",
   "name": "python",
   "nbconvert_exporter": "python",
   "pygments_lexer": "ipython3",
   "version": "3.6.5"
  },
  "latex_envs": {
   "LaTeX_envs_menu_present": true,
   "autoclose": false,
   "autocomplete": true,
   "bibliofile": "biblio.bib",
   "cite_by": "apalike",
   "current_citInitial": 1,
   "eqLabelWithNumbers": true,
   "eqNumInitial": 1,
   "hotkeys": {
    "equation": "Ctrl-E",
    "itemize": "Ctrl-I"
   },
   "labels_anchors": false,
   "latex_user_defs": false,
   "report_style_numbering": false,
   "user_envs_cfg": false
  },
  "varInspector": {
   "cols": {
    "lenName": 16,
    "lenType": 16,
    "lenVar": 40
   },
   "kernels_config": {
    "python": {
     "delete_cmd_postfix": "",
     "delete_cmd_prefix": "del ",
     "library": "var_list.py",
     "varRefreshCmd": "print(var_dic_list())"
    },
    "r": {
     "delete_cmd_postfix": ") ",
     "delete_cmd_prefix": "rm(",
     "library": "var_list.r",
     "varRefreshCmd": "cat(var_dic_list()) "
    }
   },
   "types_to_exclude": [
    "module",
    "function",
    "builtin_function_or_method",
    "instance",
    "_Feature"
   ],
   "window_display": false
  }
 },
 "nbformat": 4,
 "nbformat_minor": 2
}
