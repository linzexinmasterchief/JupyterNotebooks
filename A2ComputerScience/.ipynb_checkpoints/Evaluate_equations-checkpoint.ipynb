{
 "cells": [
  {
   "cell_type": "code",
   "execution_count": 112,
   "metadata": {
    "scrolled": true
   },
   "outputs": [],
   "source": [
    "def translate(in_fix = \"\"):\n",
    "    symbol_stack = []\n",
    "    post_fix = \"\"\n",
    "    numlock = False\n",
    "    \n",
    "    if in_fix == \"\":\n",
    "        return \"\"\n",
    "    else:\n",
    "        for i in in_fix:\n",
    "#             print(post_fix, \"|\", symbol_stack)\n",
    "            # if is number, append directly\n",
    "            if i.isdigit():\n",
    "                # first number\n",
    "                if post_fix == \"\":\n",
    "                    post_fix += i\n",
    "                    # numlock true: numbers will be append to the same stack element\n",
    "                    numlock = True\n",
    "                elif numlock:\n",
    "                    # next digit of the same number\n",
    "                    post_fix = post_fix + i\n",
    "                else:\n",
    "                    # start a new number element\n",
    "                    # specificly for starting a number after another number\n",
    "                    post_fix = post_fix + \" \" + i\n",
    "                    numlock = True\n",
    "            elif i == \" \":\n",
    "                pass\n",
    "            else:\n",
    "                # since a operand (including spaces) is met, \n",
    "                # the last number must be finished, therefore lock the last stack element\n",
    "                numlock = False\n",
    "                if len(symbol_stack) == 0:\n",
    "                    # if stack empty, directly append\n",
    "                    symbol_stack.append(i)\n",
    "                    continue\n",
    "                if i == \"+\" or i == \"-\":\n",
    "                    if symbol_stack[:-1] == \"+\" or symbol_stack[:-1] == \"-\":\n",
    "                        # push the symbol to stack if the top is - or +\n",
    "                        symbol_stack.append(\" \" + i)\n",
    "                    else:\n",
    "                        # append all the symbols in stack in reverse order to the post fix\n",
    "                        # reduce the size of stack at the same time\n",
    "                        while len(symbol_stack) > 0:\n",
    "                            post_fix = post_fix + \" \" + symbol_stack[-1]\n",
    "                            symbol_stack = symbol_stack[:-1]\n",
    "                        symbol_stack.append(i)\n",
    "                else:\n",
    "                    # push symbol to stack no matter what\n",
    "                    symbol_stack.append(i)\n",
    "                    \n",
    "        # append all the symbols in stack in reverse order to the post fix\n",
    "        for j in symbol_stack[::-1]:\n",
    "            post_fix = post_fix + \" \" + j\n",
    "        return post_fix"
   ]
  },
  {
   "cell_type": "code",
   "execution_count": 113,
   "metadata": {},
   "outputs": [],
   "source": [
    "def evaluate_post_fix(post_fix = \"\"):\n",
    "    stack = []\n",
    "    index = 0\n",
    "    for i in post_fix:\n",
    "        \n",
    "        if i.isdigit():\n",
    "            try:\n",
    "                stack[index] += i\n",
    "            except:\n",
    "                stack.append(i)\n",
    "        else:\n",
    "            if i == \" \":\n",
    "                index += 1\n",
    "                continue\n",
    "            else:\n",
    "                index -= 1\n",
    "#                 print(stack, \"|\", i)\n",
    "                if i == \"+\":\n",
    "                    stack[index - 1] = str(float(stack[index - 1]) + float(stack[index]))\n",
    "                elif i == \"-\":\n",
    "                    stack[index - 1] = str(float(stack[index - 1]) - float(stack[index]))\n",
    "                elif i == \"*\":\n",
    "                    stack[index - 1] = str(float(stack[index - 1]) * float(stack[index]))\n",
    "                elif i == \"/\":\n",
    "                    stack[index - 1] = str(float(stack[index - 1]) / float(stack[index]))\n",
    "                elif i == \"^\":\n",
    "                    stack[index - 1] = str(float(stack[index - 1]) ** float(stack[index]))\n",
    "                else:\n",
    "                    print(\"ERROR\")\n",
    "                stack = stack[:-1]\n",
    "                index -= 1\n",
    "    return stack[0]"
   ]
  },
  {
   "cell_type": "code",
   "execution_count": 115,
   "metadata": {},
   "outputs": [
    {
     "name": "stdout",
     "output_type": "stream",
     "text": [
      "3 - 4 * 5 - 2 * 6 = -29.0\n"
     ]
    }
   ],
   "source": [
    "equation = \"3 - 4 * 5 - 2 * 6\"\n",
    "\n",
    "post_fix = translate(equation)\n",
    "print(post_fix)\n",
    "\n",
    "result = evaluate_post_fix(post_fix)\n",
    "# print(result)\n",
    "\n",
    "print(equation, \"=\", result)"
   ]
  }
 ],
 "metadata": {
  "kernelspec": {
   "display_name": "Python 3",
   "language": "python",
   "name": "python3"
  },
  "language_info": {
   "codemirror_mode": {
    "name": "ipython",
    "version": 3
   },
   "file_extension": ".py",
   "mimetype": "text/x-python",
   "name": "python",
   "nbconvert_exporter": "python",
   "pygments_lexer": "ipython3",
   "version": "3.6.5"
  },
  "latex_envs": {
   "LaTeX_envs_menu_present": true,
   "autoclose": false,
   "autocomplete": true,
   "bibliofile": "biblio.bib",
   "cite_by": "apalike",
   "current_citInitial": 1,
   "eqLabelWithNumbers": true,
   "eqNumInitial": 1,
   "hotkeys": {
    "equation": "Ctrl-E",
    "itemize": "Ctrl-I"
   },
   "labels_anchors": false,
   "latex_user_defs": false,
   "report_style_numbering": false,
   "user_envs_cfg": false
  },
  "varInspector": {
   "cols": {
    "lenName": 16,
    "lenType": 16,
    "lenVar": 40
   },
   "kernels_config": {
    "python": {
     "delete_cmd_postfix": "",
     "delete_cmd_prefix": "del ",
     "library": "var_list.py",
     "varRefreshCmd": "print(var_dic_list())"
    },
    "r": {
     "delete_cmd_postfix": ") ",
     "delete_cmd_prefix": "rm(",
     "library": "var_list.r",
     "varRefreshCmd": "cat(var_dic_list()) "
    }
   },
   "types_to_exclude": [
    "module",
    "function",
    "builtin_function_or_method",
    "instance",
    "_Feature"
   ],
   "window_display": false
  }
 },
 "nbformat": 4,
 "nbformat_minor": 2
}
