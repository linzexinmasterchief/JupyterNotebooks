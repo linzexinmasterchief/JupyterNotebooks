{
 "cells": [
  {
   "cell_type": "code",
   "execution_count": 31,
   "metadata": {},
   "outputs": [
    {
     "name": "stdout",
     "output_type": "stream",
     "text": [
      "1 | -1 | \n",
      "2 | -1 | \n",
      "3 | -1 | \n",
      "4 | -1 | \n",
      "5 | -1 | \n",
      "6 | -1 | \n",
      "7 | -1 | \n",
      "8 | -1 | \n",
      "9 | -1 | \n",
      "-1 | -1 | \n",
      "-1\n",
      "2\n",
      "-1\n",
      "-1\n",
      "2 | 6 | aef\n",
      "2 | -1 | \n",
      "-1 | 4 | abc\n",
      "4 | -1 | \n",
      "-1 | -1 | acd\n",
      "6 | -1 | \n",
      "-1 | -1 | bdc\n",
      "8 | -1 | \n",
      "9 | -1 | \n",
      "-1 | -1 | \n"
     ]
    }
   ],
   "source": [
    "class Node:\n",
    "    def __init__(self, leftptr, rightptr, data):\n",
    "        self.leftptr = leftptr\n",
    "        self.rightptr = rightptr\n",
    "        self.data = data\n",
    "        \n",
    "    def toString(self):\n",
    "        print(str(self.leftptr) + \" | \" + str(self.rightptr) + \" | \" + self.data)\n",
    "\n",
    "def addData(data):\n",
    "    global tree, rootptr, freeptr\n",
    "    if freeptr != -1:\n",
    "        newNodeptr = freeptr\n",
    "        freeptr = tree[freeptr].leftptr\n",
    "        tree[newNodeptr].data = data\n",
    "        tree[newNodeptr].leftptr = -1\n",
    "        tree[newNodeptr].rightptr = -1\n",
    "        if rootptr == -1:\n",
    "            rootptr = newNodeptr\n",
    "        else:\n",
    "            thisNodeptr = rootptr\n",
    "            while thisNodeptr != -1:\n",
    "                \n",
    "                previousptr = thisNodeptr\n",
    "                if tree[thisNodeptr].data > data:\n",
    "                    turnedLeft = True\n",
    "                    thisNodeptr = tree[thisNodeptr].leftptr\n",
    "                else:\n",
    "                    turnedLeft = False\n",
    "                    thisNodeptr = tree[thisNodeptr].rightptr\n",
    "                print(thisNodeptr)\n",
    "            if turnedLeft:\n",
    "                tree[previousptr].leftptr = newNodeptr\n",
    "            else:\n",
    "                tree[previousptr].rightptr = newNodeptr\n",
    "        freeptr += 1\n",
    "    else:\n",
    "        print(\"Tree full\")\n",
    "                \n",
    "tree = [Node(i, -1, \"\") for i in range(10)]\n",
    "tree[-1].leftptr = -1\n",
    "rootptr = -1\n",
    "freeptr = 0\n",
    "for i in tree:\n",
    "    i.toString()\n",
    "\n",
    "addData(\"aef\")\n",
    "addData(\"abc\")\n",
    "addData(\"acd\")\n",
    "addData(\"bdc\")\n",
    "\n",
    "for i in tree:\n",
    "    i.toString()"
   ]
  },
  {
   "cell_type": "code",
   "execution_count": 7,
   "metadata": {},
   "outputs": [
    {
     "name": "stdout",
     "output_type": "stream",
     "text": [
      "haha\n"
     ]
    }
   ],
   "source": [
    "while True:\n",
    "    print(\"haha\")\n",
    "    if True:\n",
    "        break\n",
    "    print(\"haha\")"
   ]
  },
  {
   "cell_type": "code",
   "execution_count": null,
   "metadata": {},
   "outputs": [],
   "source": []
  }
 ],
 "metadata": {
  "kernelspec": {
   "display_name": "Python 3",
   "language": "python",
   "name": "python3"
  },
  "language_info": {
   "codemirror_mode": {
    "name": "ipython",
    "version": 3
   },
   "file_extension": ".py",
   "mimetype": "text/x-python",
   "name": "python",
   "nbconvert_exporter": "python",
   "pygments_lexer": "ipython3",
   "version": "3.6.5"
  },
  "latex_envs": {
   "LaTeX_envs_menu_present": true,
   "autoclose": false,
   "autocomplete": true,
   "bibliofile": "biblio.bib",
   "cite_by": "apalike",
   "current_citInitial": 1,
   "eqLabelWithNumbers": true,
   "eqNumInitial": 1,
   "hotkeys": {
    "equation": "Ctrl-E",
    "itemize": "Ctrl-I"
   },
   "labels_anchors": false,
   "latex_user_defs": false,
   "report_style_numbering": false,
   "user_envs_cfg": false
  },
  "varInspector": {
   "cols": {
    "lenName": 16,
    "lenType": 16,
    "lenVar": 40
   },
   "kernels_config": {
    "python": {
     "delete_cmd_postfix": "",
     "delete_cmd_prefix": "del ",
     "library": "var_list.py",
     "varRefreshCmd": "print(var_dic_list())"
    },
    "r": {
     "delete_cmd_postfix": ") ",
     "delete_cmd_prefix": "rm(",
     "library": "var_list.r",
     "varRefreshCmd": "cat(var_dic_list()) "
    }
   },
   "types_to_exclude": [
    "module",
    "function",
    "builtin_function_or_method",
    "instance",
    "_Feature"
   ],
   "window_display": false
  }
 },
 "nbformat": 4,
 "nbformat_minor": 2
}
