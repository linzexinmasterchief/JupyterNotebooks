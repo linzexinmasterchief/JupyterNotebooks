{
 "cells": [
  {
   "cell_type": "code",
   "execution_count": 61,
   "metadata": {},
   "outputs": [
    {
     "ename": "ModuleNotFoundError",
     "evalue": "No module named 'Math'",
     "output_type": "error",
     "traceback": [
      "\u001b[1;31m---------------------------------------------------------------------------\u001b[0m",
      "\u001b[1;31mModuleNotFoundError\u001b[0m                       Traceback (most recent call last)",
      "\u001b[1;32m<ipython-input-61-eaa7e5882b82>\u001b[0m in \u001b[0;36m<module>\u001b[1;34m\u001b[0m\n\u001b[0;32m      2\u001b[0m \u001b[1;32mimport\u001b[0m \u001b[0mpandas\u001b[0m \u001b[1;32mas\u001b[0m \u001b[0mpd\u001b[0m\u001b[1;33m\u001b[0m\u001b[1;33m\u001b[0m\u001b[0m\n\u001b[0;32m      3\u001b[0m \u001b[1;32mimport\u001b[0m \u001b[0mIPy\u001b[0m\u001b[1;33m\u001b[0m\u001b[1;33m\u001b[0m\u001b[0m\n\u001b[1;32m----> 4\u001b[1;33m \u001b[1;32mimport\u001b[0m \u001b[0mMath\u001b[0m\u001b[1;33m\u001b[0m\u001b[1;33m\u001b[0m\u001b[0m\n\u001b[0m\u001b[0;32m      5\u001b[0m \u001b[1;33m\u001b[0m\u001b[0m\n\u001b[0;32m      6\u001b[0m \u001b[1;32mimport\u001b[0m \u001b[0mtime\u001b[0m\u001b[1;33m\u001b[0m\u001b[1;33m\u001b[0m\u001b[0m\n",
      "\u001b[1;31mModuleNotFoundError\u001b[0m: No module named 'Math'"
     ]
    }
   ],
   "source": [
    "import numpy as np\n",
    "import pandas as pd\n",
    "import IPy\n",
    "\n",
    "import time"
   ]
  },
  {
   "cell_type": "code",
   "execution_count": 3,
   "metadata": {},
   "outputs": [
    {
     "name": "stderr",
     "output_type": "stream",
     "text": [
      "D:\\Anaconda3\\lib\\site-packages\\IPython\\core\\interactiveshell.py:3072: DtypeWarning: Columns (6,11,15,16,17,18,19,21) have mixed types.Specify dtype option on import or set low_memory=False.\n",
      "  interactivity=interactivity, compiler=compiler, result=result)\n"
     ]
    }
   ],
   "source": [
    "ipv6_all = pd.read_csv(\"C:/Users/webDrag0n/Downloads/ipv6_all.csv\")"
   ]
  },
  {
   "cell_type": "code",
   "execution_count": 4,
   "metadata": {},
   "outputs": [
    {
     "data": {
      "text/html": [
       "<div>\n",
       "<style scoped>\n",
       "    .dataframe tbody tr th:only-of-type {\n",
       "        vertical-align: middle;\n",
       "    }\n",
       "\n",
       "    .dataframe tbody tr th {\n",
       "        vertical-align: top;\n",
       "    }\n",
       "\n",
       "    .dataframe thead th {\n",
       "        text-align: right;\n",
       "    }\n",
       "</style>\n",
       "<table border=\"1\" class=\"dataframe\">\n",
       "  <thead>\n",
       "    <tr style=\"text-align: right;\">\n",
       "      <th></th>\n",
       "      <th>network</th>\n",
       "      <th>geoname_id</th>\n",
       "      <th>registered_country_geoname_id</th>\n",
       "      <th>represented_country_geoname_id</th>\n",
       "      <th>is_anonymous_proxy</th>\n",
       "      <th>is_satellite_provider</th>\n",
       "      <th>postal_code</th>\n",
       "      <th>latitude</th>\n",
       "      <th>longitude</th>\n",
       "      <th>accuracy_radius</th>\n",
       "      <th>...</th>\n",
       "      <th>country_iso_code</th>\n",
       "      <th>country_name</th>\n",
       "      <th>subdivision_1_iso_code</th>\n",
       "      <th>subdivision_1_name</th>\n",
       "      <th>subdivision_2_iso_code</th>\n",
       "      <th>subdivision_2_name</th>\n",
       "      <th>city_name</th>\n",
       "      <th>metro_code</th>\n",
       "      <th>time_zone</th>\n",
       "      <th>is_in_european_union</th>\n",
       "    </tr>\n",
       "  </thead>\n",
       "  <tbody>\n",
       "    <tr>\n",
       "      <th>0</th>\n",
       "      <td>2a7:1c44:39f3:1b::/64</td>\n",
       "      <td>2657896</td>\n",
       "      <td>NaN</td>\n",
       "      <td>NaN</td>\n",
       "      <td>0</td>\n",
       "      <td>0</td>\n",
       "      <td>8052</td>\n",
       "      <td>47.3664</td>\n",
       "      <td>8.5546</td>\n",
       "      <td>100.0</td>\n",
       "      <td>...</td>\n",
       "      <td>CH</td>\n",
       "      <td>瑞士</td>\n",
       "      <td>ZH</td>\n",
       "      <td>0</td>\n",
       "      <td>0</td>\n",
       "      <td>0</td>\n",
       "      <td>0</td>\n",
       "      <td>0.0</td>\n",
       "      <td>America/Los_Angeles</td>\n",
       "      <td>0.0</td>\n",
       "    </tr>\n",
       "    <tr>\n",
       "      <th>1</th>\n",
       "      <td>2000:db8::/32</td>\n",
       "      <td>5332921</td>\n",
       "      <td>NaN</td>\n",
       "      <td>NaN</td>\n",
       "      <td>0</td>\n",
       "      <td>0</td>\n",
       "      <td>93614</td>\n",
       "      <td>37.2502</td>\n",
       "      <td>-119.7513</td>\n",
       "      <td>100.0</td>\n",
       "      <td>...</td>\n",
       "      <td>US</td>\n",
       "      <td>美国</td>\n",
       "      <td>CA</td>\n",
       "      <td>加利福尼亚州</td>\n",
       "      <td>0</td>\n",
       "      <td>0</td>\n",
       "      <td>东京</td>\n",
       "      <td>0.0</td>\n",
       "      <td>Asia/Tokyo</td>\n",
       "      <td>0.0</td>\n",
       "    </tr>\n",
       "    <tr>\n",
       "      <th>2</th>\n",
       "      <td>2001:200::/38</td>\n",
       "      <td>1850147</td>\n",
       "      <td>1861060.0</td>\n",
       "      <td>NaN</td>\n",
       "      <td>0</td>\n",
       "      <td>0</td>\n",
       "      <td>102-0082</td>\n",
       "      <td>35.6882</td>\n",
       "      <td>139.7532</td>\n",
       "      <td>50.0</td>\n",
       "      <td>...</td>\n",
       "      <td>JP</td>\n",
       "      <td>日本</td>\n",
       "      <td>13</td>\n",
       "      <td>0</td>\n",
       "      <td>0</td>\n",
       "      <td>0</td>\n",
       "      <td>0</td>\n",
       "      <td>0.0</td>\n",
       "      <td>Asia/Tokyo</td>\n",
       "      <td>0.0</td>\n",
       "    </tr>\n",
       "    <tr>\n",
       "      <th>3</th>\n",
       "      <td>2001:200:400::/38</td>\n",
       "      <td>1861060</td>\n",
       "      <td>1861060.0</td>\n",
       "      <td>NaN</td>\n",
       "      <td>0</td>\n",
       "      <td>0</td>\n",
       "      <td>NaN</td>\n",
       "      <td>36.0000</td>\n",
       "      <td>138.0000</td>\n",
       "      <td>100.0</td>\n",
       "      <td>...</td>\n",
       "      <td>JP</td>\n",
       "      <td>日本</td>\n",
       "      <td>0</td>\n",
       "      <td>0</td>\n",
       "      <td>0</td>\n",
       "      <td>0</td>\n",
       "      <td>0</td>\n",
       "      <td>0.0</td>\n",
       "      <td>Asia/Tokyo</td>\n",
       "      <td>0.0</td>\n",
       "    </tr>\n",
       "    <tr>\n",
       "      <th>4</th>\n",
       "      <td>2001:200:800::/37</td>\n",
       "      <td>1861060</td>\n",
       "      <td>1861060.0</td>\n",
       "      <td>NaN</td>\n",
       "      <td>0</td>\n",
       "      <td>0</td>\n",
       "      <td>NaN</td>\n",
       "      <td>36.0000</td>\n",
       "      <td>138.0000</td>\n",
       "      <td>100.0</td>\n",
       "      <td>...</td>\n",
       "      <td>JP</td>\n",
       "      <td>日本</td>\n",
       "      <td>0</td>\n",
       "      <td>0</td>\n",
       "      <td>0</td>\n",
       "      <td>0</td>\n",
       "      <td>0</td>\n",
       "      <td>0.0</td>\n",
       "      <td>Asia/Tokyo</td>\n",
       "      <td>0.0</td>\n",
       "    </tr>\n",
       "  </tbody>\n",
       "</table>\n",
       "<p>5 rows × 23 columns</p>\n",
       "</div>"
      ],
      "text/plain": [
       "                 network  geoname_id  registered_country_geoname_id  \\\n",
       "0  2a7:1c44:39f3:1b::/64     2657896                            NaN   \n",
       "1          2000:db8::/32     5332921                            NaN   \n",
       "2          2001:200::/38     1850147                      1861060.0   \n",
       "3      2001:200:400::/38     1861060                      1861060.0   \n",
       "4      2001:200:800::/37     1861060                      1861060.0   \n",
       "\n",
       "   represented_country_geoname_id  is_anonymous_proxy  is_satellite_provider  \\\n",
       "0                             NaN                   0                      0   \n",
       "1                             NaN                   0                      0   \n",
       "2                             NaN                   0                      0   \n",
       "3                             NaN                   0                      0   \n",
       "4                             NaN                   0                      0   \n",
       "\n",
       "  postal_code  latitude  longitude  accuracy_radius  ... country_iso_code  \\\n",
       "0        8052   47.3664     8.5546            100.0  ...               CH   \n",
       "1       93614   37.2502  -119.7513            100.0  ...               US   \n",
       "2    102-0082   35.6882   139.7532             50.0  ...               JP   \n",
       "3         NaN   36.0000   138.0000            100.0  ...               JP   \n",
       "4         NaN   36.0000   138.0000            100.0  ...               JP   \n",
       "\n",
       "  country_name subdivision_1_iso_code subdivision_1_name  \\\n",
       "0           瑞士                     ZH                  0   \n",
       "1           美国                     CA             加利福尼亚州   \n",
       "2           日本                     13                  0   \n",
       "3           日本                      0                  0   \n",
       "4           日本                      0                  0   \n",
       "\n",
       "  subdivision_2_iso_code subdivision_2_name city_name metro_code  \\\n",
       "0                      0                  0         0        0.0   \n",
       "1                      0                  0        东京        0.0   \n",
       "2                      0                  0         0        0.0   \n",
       "3                      0                  0         0        0.0   \n",
       "4                      0                  0         0        0.0   \n",
       "\n",
       "             time_zone is_in_european_union  \n",
       "0  America/Los_Angeles                  0.0  \n",
       "1           Asia/Tokyo                  0.0  \n",
       "2           Asia/Tokyo                  0.0  \n",
       "3           Asia/Tokyo                  0.0  \n",
       "4           Asia/Tokyo                  0.0  \n",
       "\n",
       "[5 rows x 23 columns]"
      ]
     },
     "execution_count": 4,
     "metadata": {},
     "output_type": "execute_result"
    }
   ],
   "source": [
    "ipv6_all.head()"
   ]
  },
  {
   "cell_type": "code",
   "execution_count": 5,
   "metadata": {},
   "outputs": [],
   "source": [
    "network = ipv6_all[\"network\"]"
   ]
  },
  {
   "cell_type": "code",
   "execution_count": 7,
   "metadata": {},
   "outputs": [
    {
     "data": {
      "text/plain": [
       "'2000:db8::/32'"
      ]
     },
     "execution_count": 7,
     "metadata": {},
     "output_type": "execute_result"
    }
   ],
   "source": [
    "network[1]"
   ]
  },
  {
   "cell_type": "code",
   "execution_count": 12,
   "metadata": {},
   "outputs": [
    {
     "name": "stdout",
     "output_type": "stream",
     "text": [
      "606150\n"
     ]
    }
   ],
   "source": [
    "total_length = len(network)\n",
    "print(total_length)"
   ]
  },
  {
   "cell_type": "markdown",
   "metadata": {},
   "source": [
    "### 二分查找"
   ]
  },
  {
   "cell_type": "code",
   "execution_count": 112,
   "metadata": {},
   "outputs": [],
   "source": [
    "#target_ip = \"2aaa:0600:1000:1234:5678:abcd:0123:4321\"\n",
    "target_ip = \"2a0b:3143:2000::\""
   ]
  },
  {
   "cell_type": "code",
   "execution_count": 113,
   "metadata": {},
   "outputs": [
    {
     "name": "stdout",
     "output_type": "stream",
     "text": [
      "found\n",
      "594831\n",
      "total time:  0.01757419999967169\n"
     ]
    }
   ],
   "source": [
    "start = time.perf_counter()\n",
    "\n",
    "total_length = len(network)\n",
    "i_0 = 0\n",
    "i_1 = total_length / 2 - 1\n",
    "\n",
    "while True:\n",
    "    #print(str(i_0) + \" | \" + str(i_1))\n",
    "    if IPy.IP(target_ip) > IPy.IP(network[i_0]) and IPy.IP(target_ip) < IPy.IP(network[i_1]):\n",
    "        i_1 = int(i_0 + (i_1 - i_0) / 2)\n",
    "    elif IPy.IP(target_ip) > IPy.IP(network[i_1]):\n",
    "        temp = i_1 - i_0\n",
    "        i_0 = i_1\n",
    "        i_1 += np.ceil(temp / 2)\n",
    "        \n",
    "        if i_1 >= total_length:\n",
    "            i_1 = total_length - 1\n",
    "    if (i_0 == i_1):\n",
    "        if IPy.IP(target_ip) in IPy.IP(network[i_0]):\n",
    "            print(\"found\")\n",
    "        else:\n",
    "            print(\"not found\")\n",
    "        break\n",
    "print(i_0)\n",
    "\n",
    "end = time.perf_counter()\n",
    "print(\"total time: \", end - start)"
   ]
  },
  {
   "cell_type": "code",
   "execution_count": 114,
   "metadata": {},
   "outputs": [
    {
     "data": {
      "text/plain": [
       "'2a0b:3143:2000::/35'"
      ]
     },
     "execution_count": 114,
     "metadata": {},
     "output_type": "execute_result"
    }
   ],
   "source": [
    "network[i_0]"
   ]
  }
 ],
 "metadata": {
  "kernelspec": {
   "display_name": "Python 3",
   "language": "python",
   "name": "python3"
  },
  "language_info": {
   "codemirror_mode": {
    "name": "ipython",
    "version": 3
   },
   "file_extension": ".py",
   "mimetype": "text/x-python",
   "name": "python",
   "nbconvert_exporter": "python",
   "pygments_lexer": "ipython3",
   "version": "3.7.7"
  },
  "latex_envs": {
   "LaTeX_envs_menu_present": true,
   "autoclose": false,
   "autocomplete": true,
   "bibliofile": "biblio.bib",
   "cite_by": "apalike",
   "current_citInitial": 1,
   "eqLabelWithNumbers": true,
   "eqNumInitial": 1,
   "hotkeys": {
    "equation": "Ctrl-E",
    "itemize": "Ctrl-I"
   },
   "labels_anchors": false,
   "latex_user_defs": false,
   "report_style_numbering": false,
   "user_envs_cfg": false
  }
 },
 "nbformat": 4,
 "nbformat_minor": 4
}
