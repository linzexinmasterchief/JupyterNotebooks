{
 "cells": [
  {
   "cell_type": "code",
   "execution_count": 93,
   "metadata": {
    "collapsed": true
   },
   "outputs": [],
   "source": [
    "from sklearn.neighbors import KNeighborsClassifier\n",
    "from sklearn import metrics\n",
    "from math import isnan\n",
    "import numpy as np\n",
    "import pandas as pd"
   ]
  },
  {
   "cell_type": "code",
   "execution_count": 100,
   "metadata": {},
   "outputs": [
    {
     "data": {
      "text/html": [
       "<div>\n",
       "<style>\n",
       "    .dataframe thead tr:only-child th {\n",
       "        text-align: right;\n",
       "    }\n",
       "\n",
       "    .dataframe thead th {\n",
       "        text-align: left;\n",
       "    }\n",
       "\n",
       "    .dataframe tbody tr th {\n",
       "        vertical-align: top;\n",
       "    }\n",
       "</style>\n",
       "<table border=\"1\" class=\"dataframe\">\n",
       "  <thead>\n",
       "    <tr style=\"text-align: right;\">\n",
       "      <th></th>\n",
       "      <th>PassengerId</th>\n",
       "      <th>Survived</th>\n",
       "      <th>Pclass</th>\n",
       "      <th>Age</th>\n",
       "      <th>SibSp</th>\n",
       "      <th>Parch</th>\n",
       "      <th>Fare</th>\n",
       "    </tr>\n",
       "  </thead>\n",
       "  <tbody>\n",
       "    <tr>\n",
       "      <th>count</th>\n",
       "      <td>891.000000</td>\n",
       "      <td>891.000000</td>\n",
       "      <td>891.000000</td>\n",
       "      <td>714.000000</td>\n",
       "      <td>891.000000</td>\n",
       "      <td>891.000000</td>\n",
       "      <td>891.000000</td>\n",
       "    </tr>\n",
       "    <tr>\n",
       "      <th>mean</th>\n",
       "      <td>446.000000</td>\n",
       "      <td>0.383838</td>\n",
       "      <td>2.308642</td>\n",
       "      <td>29.699118</td>\n",
       "      <td>0.523008</td>\n",
       "      <td>0.381594</td>\n",
       "      <td>32.204208</td>\n",
       "    </tr>\n",
       "    <tr>\n",
       "      <th>std</th>\n",
       "      <td>257.353842</td>\n",
       "      <td>0.486592</td>\n",
       "      <td>0.836071</td>\n",
       "      <td>14.526497</td>\n",
       "      <td>1.102743</td>\n",
       "      <td>0.806057</td>\n",
       "      <td>49.693429</td>\n",
       "    </tr>\n",
       "    <tr>\n",
       "      <th>min</th>\n",
       "      <td>1.000000</td>\n",
       "      <td>0.000000</td>\n",
       "      <td>1.000000</td>\n",
       "      <td>0.420000</td>\n",
       "      <td>0.000000</td>\n",
       "      <td>0.000000</td>\n",
       "      <td>0.000000</td>\n",
       "    </tr>\n",
       "    <tr>\n",
       "      <th>25%</th>\n",
       "      <td>223.500000</td>\n",
       "      <td>0.000000</td>\n",
       "      <td>2.000000</td>\n",
       "      <td>20.125000</td>\n",
       "      <td>0.000000</td>\n",
       "      <td>0.000000</td>\n",
       "      <td>7.910400</td>\n",
       "    </tr>\n",
       "    <tr>\n",
       "      <th>50%</th>\n",
       "      <td>446.000000</td>\n",
       "      <td>0.000000</td>\n",
       "      <td>3.000000</td>\n",
       "      <td>28.000000</td>\n",
       "      <td>0.000000</td>\n",
       "      <td>0.000000</td>\n",
       "      <td>14.454200</td>\n",
       "    </tr>\n",
       "    <tr>\n",
       "      <th>75%</th>\n",
       "      <td>668.500000</td>\n",
       "      <td>1.000000</td>\n",
       "      <td>3.000000</td>\n",
       "      <td>38.000000</td>\n",
       "      <td>1.000000</td>\n",
       "      <td>0.000000</td>\n",
       "      <td>31.000000</td>\n",
       "    </tr>\n",
       "    <tr>\n",
       "      <th>max</th>\n",
       "      <td>891.000000</td>\n",
       "      <td>1.000000</td>\n",
       "      <td>3.000000</td>\n",
       "      <td>80.000000</td>\n",
       "      <td>8.000000</td>\n",
       "      <td>6.000000</td>\n",
       "      <td>512.329200</td>\n",
       "    </tr>\n",
       "  </tbody>\n",
       "</table>\n",
       "</div>"
      ],
      "text/plain": [
       "       PassengerId    Survived      Pclass         Age       SibSp  \\\n",
       "count   891.000000  891.000000  891.000000  714.000000  891.000000   \n",
       "mean    446.000000    0.383838    2.308642   29.699118    0.523008   \n",
       "std     257.353842    0.486592    0.836071   14.526497    1.102743   \n",
       "min       1.000000    0.000000    1.000000    0.420000    0.000000   \n",
       "25%     223.500000    0.000000    2.000000   20.125000    0.000000   \n",
       "50%     446.000000    0.000000    3.000000   28.000000    0.000000   \n",
       "75%     668.500000    1.000000    3.000000   38.000000    1.000000   \n",
       "max     891.000000    1.000000    3.000000   80.000000    8.000000   \n",
       "\n",
       "            Parch        Fare  \n",
       "count  891.000000  891.000000  \n",
       "mean     0.381594   32.204208  \n",
       "std      0.806057   49.693429  \n",
       "min      0.000000    0.000000  \n",
       "25%      0.000000    7.910400  \n",
       "50%      0.000000   14.454200  \n",
       "75%      0.000000   31.000000  \n",
       "max      6.000000  512.329200  "
      ]
     },
     "execution_count": 100,
     "metadata": {},
     "output_type": "execute_result"
    }
   ],
   "source": [
    "fullData = pd.read_csv('train.csv')\n",
    "fullData.describe()"
   ]
  },
  {
   "cell_type": "code",
   "execution_count": 94,
   "metadata": {},
   "outputs": [
    {
     "name": "stderr",
     "output_type": "stream",
     "text": [
      "D:\\Anaconda3\\lib\\site-packages\\ipykernel_launcher.py:6: SettingWithCopyWarning: \n",
      "A value is trying to be set on a copy of a slice from a DataFrame\n",
      "\n",
      "See the caveats in the documentation: http://pandas.pydata.org/pandas-docs/stable/indexing.html#indexing-view-versus-copy\n",
      "  \n"
     ]
    }
   ],
   "source": [
    "index = 0\n",
    "for age in fullData[\"Age\"]:\n",
    "    if isnan(age):\n",
    "        fullData[\"Age\"][index] = 20\n",
    "    index += 1\n",
    "    \n",
    "piecesAmount = 50\n",
    "amount_of_neighbors = []\n",
    "prediction_accuracy = []"
   ]
  },
  {
   "cell_type": "code",
   "execution_count": 95,
   "metadata": {
    "collapsed": true
   },
   "outputs": [],
   "source": [
    "trainDataAmount = int(len(fullData) / piecesAmount) * (piecesAmount - 1)\n",
    "if trainDataAmount == 0:\n",
    "    trainDataAmount = 1"
   ]
  },
  {
   "cell_type": "code",
   "execution_count": 96,
   "metadata": {
    "scrolled": true
   },
   "outputs": [],
   "source": [
    "train_df = fullData[:trainDataAmount]\n",
    "test_df = fullData[trainDataAmount:]\n",
    "\n",
    "x = train_df[\"Age\"]\n",
    "x = pd.DataFrame(x)\n",
    "y = train_df[\"Survived\"]"
   ]
  },
  {
   "cell_type": "code",
   "execution_count": 97,
   "metadata": {
    "scrolled": true
   },
   "outputs": [
    {
     "name": "stdout",
     "output_type": "stream",
     "text": [
      "k =  1  | accuracy = 0.52%\n",
      "k =  2  | accuracy = 0.67%\n",
      "k =  3  | accuracy = 0.66%\n",
      "k =  4  | accuracy = 0.66%\n",
      "k =  5  | accuracy = 0.67%\n",
      "k =  6  | accuracy = 0.64%\n",
      "k =  7  | accuracy = 0.64%\n",
      "k =  8  | accuracy = 0.62%\n",
      "k =  9  | accuracy = 0.59%\n",
      "k =  10 | accuracy = 0.62%\n",
      "k =  11 | accuracy = 0.62%\n",
      "k =  12 | accuracy = 0.62%\n",
      "k =  13 | accuracy = 0.62%\n",
      "k =  14 | accuracy = 0.62%\n",
      "k =  15 | accuracy = 0.62%\n",
      "k =  16 | accuracy = 0.62%\n",
      "k =  17 | accuracy = 0.62%\n",
      "k =  18 | accuracy = 0.62%\n",
      "k =  19 | accuracy = 0.64%\n",
      "k =  20 | accuracy = 0.62%\n",
      "k =  21 | accuracy = 0.62%\n",
      "k =  22 | accuracy = 0.62%\n",
      "k =  23 | accuracy = 0.62%\n",
      "k =  24 | accuracy = 0.62%\n",
      "k =  25 | accuracy = 0.62%\n",
      "k =  26 | accuracy = 0.62%\n",
      "k =  27 | accuracy = 0.60%\n",
      "k =  28 | accuracy = 0.60%\n",
      "k =  29 | accuracy = 0.60%\n",
      "k =  30 | accuracy = 0.60%\n",
      "k =  31 | accuracy = 0.59%\n",
      "k =  32 | accuracy = 0.60%\n",
      "k =  33 | accuracy = 0.60%\n",
      "k =  34 | accuracy = 0.60%\n",
      "k =  35 | accuracy = 0.59%\n",
      "k =  36 | accuracy = 0.59%\n",
      "k =  37 | accuracy = 0.62%\n",
      "k =  38 | accuracy = 0.60%\n",
      "k =  39 | accuracy = 0.60%\n",
      "k =  40 | accuracy = 0.60%\n",
      "k =  41 | accuracy = 0.59%\n",
      "k =  42 | accuracy = 0.59%\n",
      "k =  43 | accuracy = 0.59%\n",
      "k =  44 | accuracy = 0.59%\n",
      "k =  45 | accuracy = 0.59%\n",
      "k =  46 | accuracy = 0.60%\n",
      "k =  47 | accuracy = 0.59%\n",
      "k =  48 | accuracy = 0.59%\n",
      "k =  49 | accuracy = 0.59%\n",
      "k =  50 | accuracy = 0.59%\n"
     ]
    }
   ],
   "source": [
    "for k in range(1, 51):\n",
    "    knn = KNeighborsClassifier(n_neighbors=k)\n",
    "    knn.fit(x, y)\n",
    "\n",
    "    y_predict = knn.predict(pd.DataFrame(test_df[\"Age\"]))\n",
    "    accuracy = metrics.accuracy_score(test_df[\"Survived\"], y_predict)\n",
    "    \n",
    "    if k < 10:\n",
    "        print(\"k = \",k,end=\"  | accuracy = \")\n",
    "    else:\n",
    "        print(\"k = \",k,end=\" | accuracy = \")\n",
    "\n",
    "    print(\"%.2f% %\" % accuracy)\n",
    "    \n",
    "    amount_of_neighbors.append(k)\n",
    "    prediction_accuracy.append(accuracy * 100)"
   ]
  },
  {
   "cell_type": "code",
   "execution_count": 98,
   "metadata": {
    "collapsed": true
   },
   "outputs": [],
   "source": [
    "import matplotlib.pyplot as plt"
   ]
  },
  {
   "cell_type": "markdown",
   "metadata": {},
   "source": [
    "##### The relationship between accuracy and amount of neighbors when discovering the relationship between name length and survived"
   ]
  },
  {
   "cell_type": "code",
   "execution_count": 99,
   "metadata": {
    "scrolled": false
   },
   "outputs": [
    {
     "data": {
      "image/png": "[encoded data removed]",
      "text/plain": [
       "<matplotlib.figure.Figure at 0x12e24a37a20>"
      ]
     },
     "metadata": {},
     "output_type": "display_data"
    }
   ],
   "source": [
    "plt.plot(amount_of_neighbors, prediction_accuracy)\n",
    "plt.xlabel(\"amount of neighbors (k)\")\n",
    "plt.ylabel(\"prediction accuracy %\")\n",
    "plt.show()"
   ]
  }
 ],
 "metadata": {
  "kernelspec": {
   "display_name": "Python 3",
   "language": "python",
   "name": "python3"
  },
  "language_info": {
   "codemirror_mode": {
    "name": "ipython",
    "version": 3
   },
   "file_extension": ".py",
   "mimetype": "text/x-python",
   "name": "python",
   "nbconvert_exporter": "python",
   "pygments_lexer": "ipython3",
   "version": "3.6.3"
  }
 },
 "nbformat": 4,
 "nbformat_minor": 2
}
