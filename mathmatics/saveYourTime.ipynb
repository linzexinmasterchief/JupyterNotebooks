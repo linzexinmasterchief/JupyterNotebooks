{
 "cells": [
  {
   "cell_type": "code",
   "execution_count": 1,
   "metadata": {},
   "outputs": [
    {
     "name": "stdout",
     "output_type": "stream",
     "text": [
      "Enter data: 12\n",
      "Enter data: 12\n",
      "Enter data: 12\n",
      "Enter data: 13\n",
      "Enter data: 24\n",
      "Enter data: 35\n",
      "Enter data: 51\n",
      "Enter data: 41\n",
      "Enter data: 31\n",
      "Enter data: 23\n",
      "Enter data: 53\n",
      "Enter data: 14\n",
      "Enter data: 25\n",
      "Enter data: 63\n",
      "Enter data: 74\n",
      "Enter data: 74\n",
      "Enter data: 35\n",
      "Enter data: 64\n",
      "Enter data: 34\n",
      "Enter data: 24\n",
      "Enter data: 64\n",
      "Enter data: 35\n",
      "Enter data: 35\n",
      "Enter data: 46\n",
      "Enter data: end\n",
      "\n",
      "1 | 2 2 2 3 4 \n",
      "2 | 3 4 4 5 \n",
      "3 | 1 4 5 5 5 5 \n",
      "4 | 1 6 \n",
      "5 | 1 3 \n",
      "6 | 3 4 4 \n",
      "7 | 4 4 "
     ]
    }
   ],
   "source": [
    "a  = \"\"\n",
    "arr = []\n",
    "currentStem = -1\n",
    "while True:\n",
    "    a = input(\"Enter data: \")\n",
    "    if a == \"end\":\n",
    "        break\n",
    "    else:\n",
    "        a = int(a)\n",
    "        arr.append(a)\n",
    "arr.sort()\n",
    "for i in arr:\n",
    "    if int(i / 10) > currentStem:\n",
    "        print()\n",
    "        currentStem = int(i / 10)\n",
    "        print(str(currentStem) + \" | \", end=\"\")\n",
    "    if i < 10:\n",
    "        print(i, end=\" \")\n",
    "    else:\n",
    "        print(str(i % (10 * currentStem)), end=\" \")"
   ]
  },
  {
   "cell_type": "code",
   "execution_count": null,
   "metadata": {
    "collapsed": true
   },
   "outputs": [],
   "source": []
  }
 ],
 "metadata": {
  "kernelspec": {
   "display_name": "Python 3",
   "language": "python",
   "name": "python3"
  },
  "language_info": {
   "codemirror_mode": {
    "name": "ipython",
    "version": 3
   },
   "file_extension": ".py",
   "mimetype": "text/x-python",
   "name": "python",
   "nbconvert_exporter": "python",
   "pygments_lexer": "ipython3",
   "version": "3.6.2"
  },
  "varInspector": {
   "cols": {
    "lenName": 16,
    "lenType": 16,
    "lenVar": 40
   },
   "kernels_config": {
    "python": {
     "delete_cmd_postfix": "",
     "delete_cmd_prefix": "del ",
     "library": "var_list.py",
     "varRefreshCmd": "print(var_dic_list())"
    },
    "r": {
     "delete_cmd_postfix": ") ",
     "delete_cmd_prefix": "rm(",
     "library": "var_list.r",
     "varRefreshCmd": "cat(var_dic_list()) "
    }
   },
   "types_to_exclude": [
    "module",
    "function",
    "builtin_function_or_method",
    "instance",
    "_Feature"
   ],
   "window_display": false
  }
 },
 "nbformat": 4,
 "nbformat_minor": 2
}
