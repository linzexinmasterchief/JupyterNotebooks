{
 "cells": [
  {
   "cell_type": "code",
   "execution_count": 4,
   "metadata": {},
   "outputs": [],
   "source": [
    "import time\n",
    "import random"
   ]
  },
  {
   "cell_type": "code",
   "execution_count": 12,
   "metadata": {},
   "outputs": [
    {
     "name": "stdout",
     "output_type": "stream",
     "text": [
      "[7104, 9155, 1898, 5969, 2714, 948, 34, 2084, 3168, 3800, 5306]\n",
      "[3, 4, 5, 6, 3, 4, 9, 5, 7, 2, 0, 1]\n"
     ]
    }
   ],
   "source": [
    "array = [random.randint(1, 10000) for i in range(1, 10000)]\n",
    "print(array[0:len(array):len(array) // 10])\n",
    "a = [3,4,5,6,3,4,9,5,7,2,0,1]\n",
    "print(a[0:len(a):len(a) // 10])"
   ]
  },
  {
   "cell_type": "code",
   "execution_count": 6,
   "metadata": {},
   "outputs": [],
   "source": [
    "class MyTimer(object):\n",
    "    '''\n",
    "    用上下文管理器计时\n",
    "    '''\n",
    "    def __enter__(self):\n",
    "        self.t0 = time.time()\n",
    "\n",
    "    def __exit__(self, exc_type, exc_val, exc_tb):\n",
    "        print('[spent time: {time:.20f} s]'.format(time = time.time() - self.t0))"
   ]
  },
  {
   "cell_type": "code",
   "execution_count": 7,
   "metadata": {},
   "outputs": [
    {
     "name": "stdout",
     "output_type": "stream",
     "text": [
      "[spent time: 11.34738492965698242188 s]\n"
     ]
    }
   ],
   "source": [
    "def bubble_sort(data):\n",
    "    if len(data) >= 2:\n",
    "        for i in range(0, len(data)):\n",
    "            for j in range(0, len(data) - i - 1):\n",
    "                if data[j] > data[j + 1]:\n",
    "                    temp = data[j]\n",
    "                    data[j] = data[j + 1]\n",
    "                    data[j + 1] = temp\n",
    "        return data\n",
    "    else:\n",
    "        return data\n",
    "    \n",
    "with MyTimer() as t:\n",
    "    bubble_sort(array)"
   ]
  },
  {
   "cell_type": "code",
   "execution_count": 18,
   "metadata": {
    "scrolled": true
   },
   "outputs": [
    {
     "name": "stdout",
     "output_type": "stream",
     "text": [
      "[spent time: 0.03989601135253906250 s]\n",
      "[spent time: 0.00199913978576660156 s]\n",
      "[spent time: 0.09174919128417968750 s]\n"
     ]
    }
   ],
   "source": [
    "def quick_sort(data):\n",
    "    if len(data) >= 2:\n",
    "        # mid = data[len(data)//2]  # set pivot\n",
    "        mid = data[0]\n",
    "        left, right = [], []\n",
    "        data.remove(mid)  # remove pivot\n",
    "        for num in data:\n",
    "            if num >= mid:\n",
    "                right.append(num)\n",
    "            else:\n",
    "                left.append(num)\n",
    "        return quick_sort(left) + [mid] + quick_sort(right)\n",
    "    else:\n",
    "        return data\n",
    "    \n",
    "with MyTimer() as t:\n",
    "    quick_sort(array) # execute algorithm\n",
    "\n",
    "arr = array[0:1000]    \n",
    "\n",
    "with MyTimer() as t:\n",
    "    quick_sort(arr) # execute algorithm\n",
    "    \n",
    "sorted_array = quick_sort(arr)\n",
    "with MyTimer() as t:\n",
    "    quick_sort(sorted_array)"
   ]
  },
  {
   "cell_type": "code",
   "execution_count": 9,
   "metadata": {},
   "outputs": [
    {
     "name": "stdout",
     "output_type": "stream",
     "text": [
      "[spent time: 0.01296353340148925781 s]\n"
     ]
    }
   ],
   "source": [
    "def bucket_sort(data):\n",
    "    max = data[0] # store the minimum number in data\n",
    "    min = data[0] # store the maximum number in data\n",
    "    for i in data:\n",
    "        if i > max:\n",
    "            max = i # update max number\n",
    "        elif i < min:\n",
    "            min = i # update min number\n",
    "    bucket = [0 for i in range(max - min + 1)] # array starts at 0, which is biased by max - min\n",
    "    for i in data:\n",
    "        bucket[i - min] += 1 # the biased index of bucket + 1\n",
    "    \n",
    "    result = []\n",
    "    for i in range(len(bucket)):\n",
    "        for j in range(bucket[i]):\n",
    "            result.append(min + i)\n",
    "    return result\n",
    "\n",
    "with MyTimer() as t:\n",
    "    bucket_sort(array)"
   ]
  },
  {
   "cell_type": "code",
   "execution_count": 21,
   "metadata": {},
   "outputs": [
    {
     "name": "stdout",
     "output_type": "stream",
     "text": [
      "[spent time: 0.14761638641357421875 s]\n"
     ]
    }
   ],
   "source": [
    "def merge(left, right):\n",
    "    res = []\n",
    "    while left and right:\n",
    "        if left[0] < right[0]:\n",
    "            res.append(left.pop(0))\n",
    "        else:\n",
    "            res.append(right.pop(0))\n",
    "    res = res + left + right\n",
    "    return res\n",
    "\n",
    "def merge_sort(lists):\n",
    "    if len(lists) <= 1:\n",
    "        return lists\n",
    "    mid = len(lists)//2\n",
    "    left = merge_sort(lists[:mid])\n",
    "    right = merge_sort(lists[mid:])\n",
    "    return merge(left,right)\n",
    "\n",
    "with MyTimer() as t:\n",
    "    merge_sort(array)"
   ]
  },
  {
   "cell_type": "code",
   "execution_count": null,
   "metadata": {},
   "outputs": [],
   "source": []
  }
 ],
 "metadata": {
  "kernelspec": {
   "display_name": "Python 3",
   "language": "python",
   "name": "python3"
  },
  "language_info": {
   "codemirror_mode": {
    "name": "ipython",
    "version": 3
   },
   "file_extension": ".py",
   "mimetype": "text/x-python",
   "name": "python",
   "nbconvert_exporter": "python",
   "pygments_lexer": "ipython3",
   "version": "3.6.5"
  },
  "latex_envs": {
   "LaTeX_envs_menu_present": true,
   "autoclose": false,
   "autocomplete": true,
   "bibliofile": "biblio.bib",
   "cite_by": "apalike",
   "current_citInitial": 1,
   "eqLabelWithNumbers": true,
   "eqNumInitial": 1,
   "hotkeys": {
    "equation": "Ctrl-E",
    "itemize": "Ctrl-I"
   },
   "labels_anchors": false,
   "latex_user_defs": false,
   "report_style_numbering": false,
   "user_envs_cfg": false
  },
  "toc": {
   "nav_menu": {},
   "number_sections": true,
   "sideBar": true,
   "skip_h1_title": false,
   "toc_cell": false,
   "toc_position": {},
   "toc_section_display": "block",
   "toc_window_display": false
  },
  "varInspector": {
   "cols": {
    "lenName": 16,
    "lenType": 16,
    "lenVar": 40
   },
   "kernels_config": {
    "python": {
     "delete_cmd_postfix": "",
     "delete_cmd_prefix": "del ",
     "library": "var_list.py",
     "varRefreshCmd": "print(var_dic_list())"
    },
    "r": {
     "delete_cmd_postfix": ") ",
     "delete_cmd_prefix": "rm(",
     "library": "var_list.r",
     "varRefreshCmd": "cat(var_dic_list()) "
    }
   },
   "types_to_exclude": [
    "module",
    "function",
    "builtin_function_or_method",
    "instance",
    "_Feature"
   ],
   "window_display": false
  }
 },
 "nbformat": 4,
 "nbformat_minor": 2
}
