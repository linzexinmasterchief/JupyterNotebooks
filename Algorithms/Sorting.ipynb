{
 "cells": [
  {
   "cell_type": "code",
   "execution_count": 2,
   "metadata": {},
   "outputs": [],
   "source": [
    "import time\n",
    "import random"
   ]
  },
  {
   "cell_type": "code",
   "execution_count": 3,
   "metadata": {},
   "outputs": [
    {
     "name": "stdout",
     "output_type": "stream",
     "text": [
      "[6958, 8783, 377, 1346, 4791, 9947, 4877, 8105, 6736, 2460, 3411]\n",
      "[3, 4, 5, 6, 3, 4, 9, 5, 7, 2, 0, 1]\n"
     ]
    }
   ],
   "source": [
    "# creates an array of 10000 random integer between 1 and 10000\n",
    "array = [random.randint(1, 10000) for i in range(1, 10000)]\n",
    "# print 10 numbers from the array with same intevals\n",
    "print(array[0:len(array):len(array) // 10])\n",
    "# small testing array\n",
    "a = [3,4,5,6,3,4,9,5,7,2,0,1]\n",
    "# same as above\n",
    "print(a[0:len(a):len(a) // 10])"
   ]
  },
  {
   "cell_type": "code",
   "execution_count": 4,
   "metadata": {},
   "outputs": [],
   "source": [
    "class MyTimer(object):\n",
    "    def __enter__(self):\n",
    "        self.t0 = time.time()\n",
    "\n",
    "    def __exit__(self, exc_type, exc_val, exc_tb):\n",
    "        print('[spent time: {time:.20f} s]'.format(time = time.time() - self.t0))"
   ]
  },
  {
   "cell_type": "code",
   "execution_count": 5,
   "metadata": {},
   "outputs": [
    {
     "name": "stdout",
     "output_type": "stream",
     "text": [
      "[spent time: 10.52231621742248535156 s]\n"
     ]
    }
   ],
   "source": [
    "def bubble_sort(data):\n",
    "    if len(data) >= 2:\n",
    "        # iterate through the list\n",
    "        for i in range(0, len(data)):\n",
    "            # for each of the elements, compare with all other elements except the ones that are already sorted\n",
    "            # the last i elements are the largest i elements\n",
    "            for j in range(0, len(data) - i - 1):\n",
    "                # switch elements if the right hand side one is smaller\n",
    "                # so the largest element could go all the way to the right end of the list\n",
    "                if data[j] > data[j + 1]:\n",
    "                    # swap\n",
    "                    temp = data[j]\n",
    "                    data[j] = data[j + 1]\n",
    "                    data[j + 1] = temp\n",
    "        # return array\n",
    "        return data\n",
    "    else:\n",
    "        # dosen't require sorting\n",
    "        return data\n",
    "\n",
    "# timer\n",
    "with MyTimer() as t:\n",
    "    bubble_sort(array)"
   ]
  },
  {
   "cell_type": "code",
   "execution_count": 10,
   "metadata": {
    "scrolled": true
   },
   "outputs": [
    {
     "name": "stdout",
     "output_type": "stream",
     "text": [
      "[spent time: 3.72878122329711914062 s]\n"
     ]
    },
    {
     "ename": "RecursionError",
     "evalue": "maximum recursion depth exceeded in comparison",
     "output_type": "error",
     "traceback": [
      "\u001b[1;31m---------------------------------------------------------------------------\u001b[0m",
      "\u001b[1;31mRecursionError\u001b[0m                            Traceback (most recent call last)",
      "\u001b[1;32m<ipython-input-10-a1746647d5f0>\u001b[0m in \u001b[0;36m<module>\u001b[1;34m()\u001b[0m\n\u001b[0;32m     15\u001b[0m \u001b[1;33m\u001b[0m\u001b[0m\n\u001b[0;32m     16\u001b[0m \u001b[1;32mwith\u001b[0m \u001b[0mMyTimer\u001b[0m\u001b[1;33m(\u001b[0m\u001b[1;33m)\u001b[0m \u001b[1;32mas\u001b[0m \u001b[0mt\u001b[0m\u001b[1;33m:\u001b[0m\u001b[1;33m\u001b[0m\u001b[0m\n\u001b[1;32m---> 17\u001b[1;33m     \u001b[0mquick_sort\u001b[0m\u001b[1;33m(\u001b[0m\u001b[0marray\u001b[0m\u001b[1;33m)\u001b[0m \u001b[1;31m# execute algorithm\u001b[0m\u001b[1;33m\u001b[0m\u001b[0m\n\u001b[0m\u001b[0;32m     18\u001b[0m \u001b[1;33m\u001b[0m\u001b[0m\n\u001b[0;32m     19\u001b[0m \u001b[1;31m# arr is a subset of array\u001b[0m\u001b[1;33m\u001b[0m\u001b[1;33m\u001b[0m\u001b[0m\n",
      "\u001b[1;32m<ipython-input-10-a1746647d5f0>\u001b[0m in \u001b[0;36mquick_sort\u001b[1;34m(data)\u001b[0m\n\u001b[0;32m     10\u001b[0m             \u001b[1;32melse\u001b[0m\u001b[1;33m:\u001b[0m\u001b[1;33m\u001b[0m\u001b[0m\n\u001b[0;32m     11\u001b[0m                 \u001b[0mleft\u001b[0m\u001b[1;33m.\u001b[0m\u001b[0mappend\u001b[0m\u001b[1;33m(\u001b[0m\u001b[0mnum\u001b[0m\u001b[1;33m)\u001b[0m\u001b[1;33m\u001b[0m\u001b[0m\n\u001b[1;32m---> 12\u001b[1;33m         \u001b[1;32mreturn\u001b[0m \u001b[0mquick_sort\u001b[0m\u001b[1;33m(\u001b[0m\u001b[0mleft\u001b[0m\u001b[1;33m)\u001b[0m \u001b[1;33m+\u001b[0m \u001b[1;33m[\u001b[0m\u001b[0mmid\u001b[0m\u001b[1;33m]\u001b[0m \u001b[1;33m+\u001b[0m \u001b[0mquick_sort\u001b[0m\u001b[1;33m(\u001b[0m\u001b[0mright\u001b[0m\u001b[1;33m)\u001b[0m\u001b[1;33m\u001b[0m\u001b[0m\n\u001b[0m\u001b[0;32m     13\u001b[0m     \u001b[1;32melse\u001b[0m\u001b[1;33m:\u001b[0m\u001b[1;33m\u001b[0m\u001b[0m\n\u001b[0;32m     14\u001b[0m         \u001b[1;32mreturn\u001b[0m \u001b[0mdata\u001b[0m\u001b[1;33m\u001b[0m\u001b[0m\n",
      "... last 1 frames repeated, from the frame below ...\n",
      "\u001b[1;32m<ipython-input-10-a1746647d5f0>\u001b[0m in \u001b[0;36mquick_sort\u001b[1;34m(data)\u001b[0m\n\u001b[0;32m     10\u001b[0m             \u001b[1;32melse\u001b[0m\u001b[1;33m:\u001b[0m\u001b[1;33m\u001b[0m\u001b[0m\n\u001b[0;32m     11\u001b[0m                 \u001b[0mleft\u001b[0m\u001b[1;33m.\u001b[0m\u001b[0mappend\u001b[0m\u001b[1;33m(\u001b[0m\u001b[0mnum\u001b[0m\u001b[1;33m)\u001b[0m\u001b[1;33m\u001b[0m\u001b[0m\n\u001b[1;32m---> 12\u001b[1;33m         \u001b[1;32mreturn\u001b[0m \u001b[0mquick_sort\u001b[0m\u001b[1;33m(\u001b[0m\u001b[0mleft\u001b[0m\u001b[1;33m)\u001b[0m \u001b[1;33m+\u001b[0m \u001b[1;33m[\u001b[0m\u001b[0mmid\u001b[0m\u001b[1;33m]\u001b[0m \u001b[1;33m+\u001b[0m \u001b[0mquick_sort\u001b[0m\u001b[1;33m(\u001b[0m\u001b[0mright\u001b[0m\u001b[1;33m)\u001b[0m\u001b[1;33m\u001b[0m\u001b[0m\n\u001b[0m\u001b[0;32m     13\u001b[0m     \u001b[1;32melse\u001b[0m\u001b[1;33m:\u001b[0m\u001b[1;33m\u001b[0m\u001b[0m\n\u001b[0;32m     14\u001b[0m         \u001b[1;32mreturn\u001b[0m \u001b[0mdata\u001b[0m\u001b[1;33m\u001b[0m\u001b[0m\n",
      "\u001b[1;31mRecursionError\u001b[0m: maximum recursion depth exceeded in comparison"
     ]
    }
   ],
   "source": [
    "def quick_sort(data):\n",
    "    if len(data) >= 2:\n",
    "        # mid = data[len(data)//2]  # set pivot\n",
    "        mid = data[0]\n",
    "        left, right = [], []\n",
    "        data.remove(mid)  # remove pivot\n",
    "        for num in data:\n",
    "            if num >= mid:\n",
    "                right.append(num)\n",
    "            else:\n",
    "                left.append(num)\n",
    "        return quick_sort(left) + [mid] + quick_sort(right)\n",
    "    else:\n",
    "        return data\n",
    "    \n",
    "with MyTimer() as t:\n",
    "    quick_sort(array) # execute algorithm\n",
    "\n",
    "# arr is a subset of array\n",
    "# adjust the size of arr acording to your computer performance\n",
    "# since the worst case of quick sort is extremely memory cosuming\n",
    "arr = array[0:1000]\n",
    "\n",
    "# test with unsorted arr\n",
    "with MyTimer() as t:\n",
    "    quick_sort(arr) # execute algorithm\n",
    "\n",
    "# test with sorted arr (worst case)\n",
    "sorted_array = quick_sort(arr)\n",
    "# timer\n",
    "with MyTimer() as t:\n",
    "    quick_sort(sorted_array)"
   ]
  },
  {
   "cell_type": "code",
   "execution_count": 14,
   "metadata": {},
   "outputs": [
    {
     "name": "stdout",
     "output_type": "stream",
     "text": [
      "[spent time: 0.00800156593322753906 s]\n"
     ]
    }
   ],
   "source": [
    "def bucket_sort(data):\n",
    "    max = data[0] # store the minimum number in data\n",
    "    min = data[0] # store the maximum number in data\n",
    "    for i in data:\n",
    "        if i > max:\n",
    "            max = i # update max number\n",
    "        elif i < min:\n",
    "            min = i # update min number\n",
    "    bucket = [0 for i in range(max - min + 1)] # array starts at 0, which is biased by max - min\n",
    "    for i in data:\n",
    "        bucket[i - min] += 1 # the biased index of bucket + 1\n",
    "    \n",
    "    result = []\n",
    "    for i in range(len(bucket)):\n",
    "        for j in range(bucket[i]):\n",
    "            result.append(min + i)\n",
    "    return result\n",
    "\n",
    "with MyTimer() as t:\n",
    "    bucket_sort(array)"
   ]
  },
  {
   "cell_type": "code",
   "execution_count": 15,
   "metadata": {},
   "outputs": [
    {
     "name": "stdout",
     "output_type": "stream",
     "text": [
      "[spent time: 0.05600047111511230469 s]\n"
     ]
    }
   ],
   "source": [
    "def merge(left, right):\n",
    "    res = []\n",
    "    while left and right:\n",
    "        if left[0] < right[0]:\n",
    "            res.append(left.pop(0))\n",
    "        else:\n",
    "            res.append(right.pop(0))\n",
    "    res = res + left + right\n",
    "    return res\n",
    "\n",
    "def merge_sort(lists):\n",
    "    if len(lists) <= 1:\n",
    "        return lists\n",
    "    mid = len(lists) // 2\n",
    "    left = merge_sort(lists[:mid])\n",
    "    right = merge_sort(lists[mid:])\n",
    "    return merge(left, right)\n",
    "\n",
    "with MyTimer() as t:\n",
    "    merge_sort(array)"
   ]
  }
 ],
 "metadata": {
  "kernelspec": {
   "display_name": "Python 3",
   "language": "python",
   "name": "python3"
  },
  "language_info": {
   "codemirror_mode": {
    "name": "ipython",
    "version": 3
   },
   "file_extension": ".py",
   "mimetype": "text/x-python",
   "name": "python",
   "nbconvert_exporter": "python",
   "pygments_lexer": "ipython3",
   "version": "3.6.5"
  },
  "latex_envs": {
   "LaTeX_envs_menu_present": true,
   "autoclose": false,
   "autocomplete": true,
   "bibliofile": "biblio.bib",
   "cite_by": "apalike",
   "current_citInitial": 1,
   "eqLabelWithNumbers": true,
   "eqNumInitial": 1,
   "hotkeys": {
    "equation": "Ctrl-E",
    "itemize": "Ctrl-I"
   },
   "labels_anchors": false,
   "latex_user_defs": false,
   "report_style_numbering": false,
   "user_envs_cfg": false
  },
  "toc": {
   "nav_menu": {},
   "number_sections": true,
   "sideBar": true,
   "skip_h1_title": false,
   "toc_cell": false,
   "toc_position": {},
   "toc_section_display": "block",
   "toc_window_display": false
  },
  "varInspector": {
   "cols": {
    "lenName": 16,
    "lenType": 16,
    "lenVar": 40
   },
   "kernels_config": {
    "python": {
     "delete_cmd_postfix": "",
     "delete_cmd_prefix": "del ",
     "library": "var_list.py",
     "varRefreshCmd": "print(var_dic_list())"
    },
    "r": {
     "delete_cmd_postfix": ") ",
     "delete_cmd_prefix": "rm(",
     "library": "var_list.r",
     "varRefreshCmd": "cat(var_dic_list()) "
    }
   },
   "types_to_exclude": [
    "module",
    "function",
    "builtin_function_or_method",
    "instance",
    "_Feature"
   ],
   "window_display": false
  }
 },
 "nbformat": 4,
 "nbformat_minor": 2
}
