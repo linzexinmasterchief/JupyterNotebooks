{
 "cells": [
  {
   "cell_type": "code",
   "execution_count": null,
   "metadata": {
    "collapsed": true
   },
   "outputs": [],
   "source": [
    "from vpython import *\n",
    "ball = sphere(pos = vec(0,0,0),radius = 5, shiness = 0.1)"
   ]
  },
  {
   "cell_type": "code",
   "execution_count": null,
   "metadata": {
    "collapsed": true,
    "scrolled": true
   },
   "outputs": [],
   "source": [
    "from OpenGL.GL import *\n",
    "from OpenGL.GLU import *\n",
    "from OpenGL.GLUT import *\n",
    "\n",
    "def drawFunc():\n",
    "    glClear(GL_COLOR_BUFFER_BIT)\n",
    "    #glRotatef(1, 0, 1, 0)\n",
    "    glutWireTeapot(0.5)\n",
    "    glFlush()\n",
    "\n",
    "glutInit()\n",
    "glutInitDisplayMode(GLUT_SINGLE | GLUT_RGBA)\n",
    "glutInitWindowSize(400, 400)\n",
    "#参数为b类型而不是string\n",
    "glutCreateWindow(b\"First\")\n",
    "glutDisplayFunc(drawFunc)\n",
    "#glutIdleFunc(drawFunc)\n",
    "glutMainLoop() "
   ]
  },
  {
   "cell_type": "code",
   "execution_count": 1,
   "metadata": {},
   "outputs": [
    {
     "name": "stdout",
     "output_type": "stream",
     "text": [
      "no dict\n"
     ]
    }
   ],
   "source": [
    "from lzxPyLib.StrongerInput import *\n",
    "\n",
    "def a(value = 0, **args):\n",
    "    try:\n",
    "        arr = args['exc']\n",
    "        print(arr[value])\n",
    "    except:\n",
    "        print(\"no dict\")\n",
    "    \n",
    "a(0)"
   ]
  },
  {
   "cell_type": "markdown",
   "metadata": {},
   "source": [
    "$\\sum_i[]=1^n score$\n",
    "\n",
    "\n",
    "$\\sum[-\\frac{b}{2a}]$\n",
    "\n",
    "$\\sum[\\frac{-\\infty}{gay}]$\n"
   ]
  },
  {
   "cell_type": "markdown",
   "metadata": {},
   "source": [
    "$q=(\\vec{u}\\sin{\\frac{\\theta}{2}},\\cos{\\frac{\\theta}{2}})=(\\vec{v}\\times\\vec{k},\\vec{v}\\cdot \\vec{k})=(\\vec{v},0)(-\\vec{k},0)=kv^*$"
   ]
  },
  {
   "cell_type": "code",
   "execution_count": 1,
   "metadata": {},
   "outputs": [
    {
     "name": "stdout",
     "output_type": "stream",
     "text": [
      "g\n",
      "ary\n"
     ]
    }
   ],
   "source": [
    "a = \"gary\"\n",
    "b = \"is\"\n",
    "c = \"handsome\"\n",
    "b = a[0]\n",
    "c = a[1:]\n",
    "print(b)\n",
    "print(c)"
   ]
  }
 ],
 "metadata": {
  "kernelspec": {
   "display_name": "Python 3",
   "language": "python",
   "name": "python3"
  },
  "language_info": {
   "codemirror_mode": {
    "name": "ipython",
    "version": 3
   },
   "file_extension": ".py",
   "mimetype": "text/x-python",
   "name": "python",
   "nbconvert_exporter": "python",
   "pygments_lexer": "ipython3",
   "version": "3.6.2"
  },
  "latex_envs": {
   "LaTeX_envs_menu_present": true,
   "autocomplete": true,
   "bibliofile": "biblio.bib",
   "cite_by": "apalike",
   "current_citInitial": 1,
   "eqLabelWithNumbers": true,
   "eqNumInitial": 1,
   "hotkeys": {
    "equation": "Ctrl-E",
    "itemize": "Ctrl-I"
   },
   "labels_anchors": false,
   "latex_user_defs": false,
   "report_style_numbering": false,
   "user_envs_cfg": false
  },
  "toc": {
   "colors": {
    "hover_highlight": "#DAA520",
    "navigate_num": "#000000",
    "navigate_text": "#333333",
    "running_highlight": "#FF0000",
    "selected_highlight": "#FFD700",
    "sidebar_border": "#EEEEEE",
    "wrapper_background": "#28282d"
   },
   "moveMenuLeft": true,
   "nav_menu": {
    "height": "4px",
    "width": "254px"
   },
   "navigate_menu": true,
   "number_sections": true,
   "sideBar": true,
   "threshold": 4,
   "toc_cell": false,
   "toc_section_display": "block",
   "toc_window_display": false,
   "widenNotebook": false
  },
  "varInspector": {
   "cols": {
    "lenName": 16,
    "lenType": 16,
    "lenVar": 40
   },
   "kernels_config": {
    "python": {
     "delete_cmd_postfix": "",
     "delete_cmd_prefix": "del ",
     "library": "var_list.py",
     "varRefreshCmd": "print(var_dic_list())"
    },
    "r": {
     "delete_cmd_postfix": ") ",
     "delete_cmd_prefix": "rm(",
     "library": "var_list.r",
     "varRefreshCmd": "cat(var_dic_list()) "
    }
   },
   "types_to_exclude": [
    "module",
    "function",
    "builtin_function_or_method",
    "instance",
    "_Feature"
   ],
   "window_display": false
  }
 },
 "nbformat": 4,
 "nbformat_minor": 2
}
