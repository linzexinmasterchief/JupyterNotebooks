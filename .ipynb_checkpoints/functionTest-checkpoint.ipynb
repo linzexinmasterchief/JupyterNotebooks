{
 "cells": [
  {
   "cell_type": "code",
   "execution_count": 4,
   "metadata": {},
   "outputs": [
    {
     "name": "stdout",
     "output_type": "stream",
     "text": [
      "HelloWorld\n"
     ]
    }
   ],
   "source": [
    "def func():\n",
    "    print(\"HelloWorld\")\n",
    "func()"
   ]
  },
  {
   "cell_type": "code",
   "execution_count": 6,
   "metadata": {},
   "outputs": [
    {
     "name": "stdout",
     "output_type": "stream",
     "text": [
      "1\n"
     ]
    }
   ],
   "source": [
    "def func2(var):\n",
    "    print(var)\n",
    "func2(1)"
   ]
  },
  {
   "cell_type": "code",
   "execution_count": 14,
   "metadata": {},
   "outputs": [
    {
     "name": "stdout",
     "output_type": "stream",
     "text": [
      "0\n",
      "1\n",
      "HelloWorld\n",
      "[1, 2, 3, 4]\n",
      "{1: 1, 2: 4, 3: 9}\n"
     ]
    }
   ],
   "source": [
    "def func3(var = 0):\n",
    "    print(var)\n",
    "func3()\n",
    "func3(1)\n",
    "func3(\"HelloWorld\")\n",
    "func3([1,2,3,4])\n",
    "func3({1:1,2:4,3:9})"
   ]
  },
  {
   "cell_type": "code",
   "execution_count": 17,
   "metadata": {},
   "outputs": [
    {
     "name": "stdout",
     "output_type": "stream",
     "text": [
      "(1, 2, 3, 4)\n",
      "(1, 'hello', 'world', True)\n"
     ]
    }
   ],
   "source": [
    "def func4(*var):\n",
    "    print(var)\n",
    "func4(1,2,3,4)\n",
    "func4(1,\"hello\",\"world\",True)"
   ]
  },
  {
   "cell_type": "code",
   "execution_count": 39,
   "metadata": {},
   "outputs": [
    {
     "name": "stdout",
     "output_type": "stream",
     "text": [
      "{'a': 1, 'b': 2} | a;b; | 1,2,\n",
      "===\n",
      "{'iwoiwjrgiowj': 'hello', 'oiniowrwvonawvi': 'world'} | iwoiwjrgiowj;oiniowrwvonawvi; | hello,world,\n"
     ]
    }
   ],
   "source": [
    "def func5(**var):\n",
    "    print(var, end=\" | \")\n",
    "    for i in var:\n",
    "        print(i, end=\";\")\n",
    "    print(end=\" | \")\n",
    "    for i in var:    \n",
    "        print(var[i],end=\",\")\n",
    "    print()\n",
    "func5(a=1, b=2)\n",
    "func5(iwoiwjrgiowj=\"hello\",oiniowrwvonawvi=\"world\")"
   ]
  },
  {
   "cell_type": "code",
   "execution_count": 42,
   "metadata": {},
   "outputs": [
    {
     "name": "stdout",
     "output_type": "stream",
     "text": [
      "1 | (2, 3, 4, 5) | {'a': 6}\n"
     ]
    }
   ],
   "source": [
    "def func6(var1, *var2, **var3):\n",
    "    print(var1, end=\" | \")\n",
    "    print(var2, end=\" | \")\n",
    "    print(var3)\n",
    "func6(1,2,3,4,5,a=6)\n",
    "\n",
    "#func6(a=6,1,2,3,4,5)\n",
    "#error message:\n",
    "#  File \"<ipython-input-41-90a69fe74ecc>\", line 6\n",
    "#    func6(a=6,1,2,3,4,5)\n",
    "#             ^\n",
    "#SyntaxError: positional argument follows keyword argument\n"
   ]
  },
  {
   "cell_type": "code",
   "execution_count": 43,
   "metadata": {},
   "outputs": [
    {
     "ename": "TypeError",
     "evalue": "func7() missing 1 required keyword-only argument: 'var2'",
     "output_type": "error",
     "traceback": [
      "\u001b[1;31m---------------------------------------------------------------------------\u001b[0m",
      "\u001b[1;31mTypeError\u001b[0m                                 Traceback (most recent call last)",
      "\u001b[1;32m<ipython-input-43-a8df945023be>\u001b[0m in \u001b[0;36m<module>\u001b[1;34m()\u001b[0m\n\u001b[0;32m      2\u001b[0m     \u001b[0mprint\u001b[0m\u001b[1;33m(\u001b[0m\u001b[0mvar1\u001b[0m\u001b[1;33m)\u001b[0m\u001b[1;33m\u001b[0m\u001b[0m\n\u001b[0;32m      3\u001b[0m     \u001b[0mprint\u001b[0m\u001b[1;33m(\u001b[0m\u001b[0mvar2\u001b[0m\u001b[1;33m)\u001b[0m\u001b[1;33m\u001b[0m\u001b[0m\n\u001b[1;32m----> 4\u001b[1;33m \u001b[0mfunc7\u001b[0m\u001b[1;33m(\u001b[0m\u001b[1;36m1\u001b[0m\u001b[1;33m,\u001b[0m\u001b[1;36m2\u001b[0m\u001b[1;33m,\u001b[0m\u001b[1;36m3\u001b[0m\u001b[1;33m,\u001b[0m\u001b[1;36m4\u001b[0m\u001b[1;33m,\u001b[0m\u001b[1;36m5\u001b[0m\u001b[1;33m)\u001b[0m\u001b[1;33m\u001b[0m\u001b[0m\n\u001b[0m",
      "\u001b[1;31mTypeError\u001b[0m: func7() missing 1 required keyword-only argument: 'var2'"
     ]
    }
   ],
   "source": [
    "def func7(*var1, var2):\n",
    "    print(var1)\n",
    "    print(var2)\n",
    "func7(1,2,3,4,5)"
   ]
  }
 ],
 "metadata": {
  "kernelspec": {
   "display_name": "Python 3",
   "language": "python",
   "name": "python3"
  },
  "language_info": {
   "codemirror_mode": {
    "name": "ipython",
    "version": 3
   },
   "file_extension": ".py",
   "mimetype": "text/x-python",
   "name": "python",
   "nbconvert_exporter": "python",
   "pygments_lexer": "ipython3",
   "version": "3.6.2"
  },
  "latex_envs": {
   "LaTeX_envs_menu_present": true,
   "autocomplete": true,
   "bibliofile": "biblio.bib",
   "cite_by": "apalike",
   "current_citInitial": 1,
   "eqLabelWithNumbers": true,
   "eqNumInitial": 1,
   "hotkeys": {
    "equation": "Ctrl-E",
    "itemize": "Ctrl-I"
   },
   "labels_anchors": false,
   "latex_user_defs": false,
   "report_style_numbering": false,
   "user_envs_cfg": false
  },
  "varInspector": {
   "cols": {
    "lenName": 16,
    "lenType": 16,
    "lenVar": 40
   },
   "kernels_config": {
    "python": {
     "delete_cmd_postfix": "",
     "delete_cmd_prefix": "del ",
     "library": "var_list.py",
     "varRefreshCmd": "print(var_dic_list())"
    },
    "r": {
     "delete_cmd_postfix": ") ",
     "delete_cmd_prefix": "rm(",
     "library": "var_list.r",
     "varRefreshCmd": "cat(var_dic_list()) "
    }
   },
   "types_to_exclude": [
    "module",
    "function",
    "builtin_function_or_method",
    "instance",
    "_Feature"
   ],
   "window_display": false
  }
 },
 "nbformat": 4,
 "nbformat_minor": 2
}
